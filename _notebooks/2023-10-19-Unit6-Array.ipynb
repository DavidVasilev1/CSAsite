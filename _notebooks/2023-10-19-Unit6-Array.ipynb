{
 "cells": [
  {
   "cell_type": "markdown",
   "metadata": {},
   "source": [
    "---\n",
    "- title: Collegeboard - Arrays\n",
    "- author: mort\n",
    "- categories: ['Lesson']\n",
    "- tags: ['Collegeboard', 'Java', 'Unit 6']\n",
    "- type: hacks\n",
    "- week: 7\n",
    "- description: Lesson on the College Board Unit 6 Arrays. This is the teacher notebook.\n",
    "- toc: True\n",
    "- comments: True\n",
    "- date: 2023-10-19 12:00:00 +0000\n",
    "- pin: true\n",
    "---"
   ]
  },
  {
   "cell_type": "markdown",
   "metadata": {},
   "source": [
    "## Intro into Arrays\n",
    "\n",
    "- An **array** is a data structure used to implement a collection (list) of primitive or object reference data.\n",
    "\n",
    "- An **element** is a single value in the **array**\n",
    "\n",
    "- The __**index**__ of an **element** is the position of the element in the **array**\n",
    "\n",
    "    - In java, the **first element** of an array is at **index 0**.\n",
    "\n",
    "- The **length** of an **array** is the number of elements in the array.\n",
    "\n",
    "    - **`length`** is a `public final` data member of an array\n",
    "\n",
    "        - Since `length` is `public`, we can access it in **any class**!\n",
    "\n",
    "        - Since `length` is `final` we cannot change an array's `length` after it has been created\n",
    "    - In Java, the **last element** of an array named `list` is at **index** `list.length -1`"
   ]
  },
  {
   "cell_type": "markdown",
   "metadata": {},
   "source": [
    "## A look into list Memory\n",
    "`int [] listOne = new int[5];`\n",
    "\n",
    "This will allocate a space in memory for 5 integers.\n",
    "\n",
    "```\n",
    "ARRAY: [0, 0, 0, 0, 0]\n",
    "INDEX:  0  1  2  3  4\n",
    "```\n",
    "\n",
    "Using the keyword new uses the default values for the data type. The default values are as follows:\n",
    "\n",
    "| Data Type | Default Value |\n",
    "| --------- | ------------- |\n",
    "| byte      | (byte) 0      |\n",
    "| short     | (short) 0     |\n",
    "| int       | 0             |\n",
    "| double    | 0.0           |\n",
    "| boolean   | false         |\n",
    "| char      | '\\u0000'      |\n",
    "\n",
    "What do we do if we want to insert a value into the array?\n",
    "\n",
    "`listOne[0] = 5;`\n",
    "\n",
    "Gives us the following array:\n",
    "\n",
    "```\n",
    "ARRAY: [0, 0, 0, 0, 0]\n",
    "INDEX:  0  1  2  3  4\n",
    "```\n",
    "\n",
    "What if we want to initialize our own values? We can use an initializer list!\n",
    "\n",
    "`int [] listTwo = {1, 2, 3, 4, 5};`\n",
    "\n",
    "Gives us the following array:\n",
    "\n",
    "```\n",
    "ARRAY: [1, 2, 3, 4, 5]\n",
    "INDEX:  0  1  2  3  4\n",
    "```\n",
    "\n",
    "If we try to access an index outside of the range of existing indexes, we will get an error. But why? Remember the basis of all programming languages is memory. Because we are trying to access a location in memory that does not exist, java will throw an error (`ArrayIndexOutOfBoundsException`).\n",
    "\n",
    "How do we print the array? Directly printing the array will not work, it just prints the value of the array in memory. We need to iterate through the array and print each value individually!"
   ]
  },
  {
   "cell_type": "code",
   "execution_count": 10,
   "metadata": {
    "vscode": {
     "languageId": "java"
    }
   },
   "outputs": [
    {
     "name": "stdout",
     "output_type": "stream",
     "text": [
      "Error at listOne[5] = 13\n",
      "ArrayIndexOutOfBoundsException: We can't access a memory index that doesn't exist!\n"
     ]
    },
    {
     "name": "stdout",
     "output_type": "stream",
     "text": [
      "[I@2c4e18a1\n",
      "33\n"
     ]
    }
   ],
   "source": [
    "/* lets take a look at the above */\n",
    "\n",
    "int [] listOne = new int[5]; // Our list looks like [0, 0, 0, 0, 0]\n",
    "\n",
    "listOne[2] = 33; // Our list looks like [0, 0, 33, 0, 0]\n",
    "listOne[3] = listOne[2] * 3; // Our list looks like [0, 0, 33, 99, 0]\n",
    "\n",
    "try {\n",
    "    listOne[5] = 13; // This will return an error\n",
    "} catch (Exception e) {\n",
    "    System.out.println(\"Error at listOne[5] = 13\");\n",
    "    System.out.println(\"ArrayIndexOutOfBoundsException: We can't access a memory index that doesn't exist!\");\n",
    "}\n",
    "\n",
    "\n",
    "System.out.println(listOne); // THIS DOES NOT PRINT THE LIST!! It prints the value in memory\n",
    "System.out.println(listOne[2]); // This will actually print the vaules in the array"
   ]
  },
  {
   "cell_type": "markdown",
   "metadata": {},
   "source": [
    "## Popcorn Hacks!\n",
    "\n",
    "Write code to print out every element of listOne the following"
   ]
  },
  {
   "cell_type": "code",
   "execution_count": 13,
   "metadata": {
    "vscode": {
     "languageId": "java"
    }
   },
   "outputs": [
    {
     "name": "stdout",
     "output_type": "stream",
     "text": [
      "0\n",
      "0\n",
      "33\n",
      "99\n",
      "0\n"
     ]
    }
   ],
   "source": [
    "for (int i = 0; i < 5; i++) {\n",
    "  System.out.println(listOne[i]);\n",
    "}"
   ]
  },
  {
   "cell_type": "markdown",
   "metadata": {},
   "source": [
    "## Reference elements\n",
    "\n",
    "Lists can be made up of elements other than the default data types! We can make lists of objects, or even lists of lists! Lets say I have a class `Student` and I want to make a list of all students in the class. I can do this by creating a list of `Student` objects.\n",
    "\n",
    "```\n",
    "Student [] classList;\n",
    "classList new Student [3];\n",
    "```\n",
    "\n",
    "Keep in mind, however, that the list won't be generated with any students in it. They are initialized to `null` by default, and We need to create the students and then add them to the list ourselves.\n",
    "\n",
    "```\n",
    "classList[0] = new Student(\"Bob\", 12, 3.5);\n",
    "classList[1] = new Student(\"John\", 11, 4.0);\n",
    "classList[2] = new Student(\"Steve\", 10, 3.75);\n",
    "```"
   ]
  },
  {
   "cell_type": "markdown",
   "metadata": {},
   "source": [
    "## Popcorn hacks!\n",
    "\n",
    "Use a class that you have already created and create a list of objects of that class. Then, iterate through the list and print out each object using:\n",
    " 1) a for loop\n",
    " 2) a while loop"
   ]
  },
  {
   "cell_type": "code",
   "execution_count": null,
   "metadata": {
    "vscode": {
     "languageId": "java"
    }
   },
   "outputs": [],
   "source": [
    "class Person {\n",
    "  private String name;\n",
    "  private int age;\n",
    "  private double grade;\n",
    "\n",
    "  public Person(String name, int age, double grade) {\n",
    "    this.name = name;\n",
    "    this.age = age;\n",
    "    this.grade = grade\n",
    "  }\n",
    "\n",
    "  public setName() {\n",
    "    this.name = name;\n",
    "  }\n",
    "\n",
    "  public getName() {\n",
    "    return name;\n",
    "  }\n",
    "\n",
    "  public setAge() {\n",
    "    this.age = age;\n",
    "  }\n",
    "\n",
    "  public getAge() {\n",
    "    return age;\n",
    "  }\n",
    "\n",
    "  public setGrade() {\n",
    "    this.grade = grade;\n",
    "  }\n",
    "\n",
    "  public getGrade() {\n",
    "    return grade;\n",
    "  }\n",
    "\n",
    "  public static void main(String [] args) {\n",
    "    Student [] classList;\n",
    "    classList new Student [3];\n",
    "\n",
    "    classList[0] = new Student(\"Bob\", 12, 3.5);\n",
    "    classList[1] = new Student(\"John\", 11, 4.0);\n",
    "    classList[2] = new Student(\"Steve\", 10, 3.75);\n",
    "  }\n",
    "}"
   ]
  },
  {
   "cell_type": "markdown",
   "metadata": {},
   "source": [
    "## Enhanced for loops\n",
    "\n",
    "The enhanced `for` loop is also called a for-each loop. Unlike a \"traditional\" indexed `for` loop with three parts separated by semicolons, there are only two parts to the enhanced `for` loop header and they are separated by a colon.\n",
    "\n",
    "The first half of an enhanced `for` loop signature is the type of name for the variable that is a copy of the value stored in the structure. Next a colon separates the variable section from the data structure being traversed with the loop.\n",
    "\n",
    "Inside the body of the loop you are able to access the value stored in the variable. A key point to remember is that you are unable to assign into the variable defined in the header (the signature)\n",
    "\n",
    "You also do not have access to the indices of the array or subscript notation when using the enhanced `for` loop.\n",
    "\n",
    "These loops have a structure similar to the one shown below:\n",
    "\n",
    "```js\n",
    "for (type declaration : structure )\n",
    "{\n",
    "    // statement one;\n",
    "    // statement two;\n",
    "    // ...\n",
    "}\n",
    "```\n",
    "\n",
    "## Popcorn Hacks!\n",
    "\n",
    "Create an array, then use a enhanced for loop to print out each element of the array."
   ]
  },
  {
   "cell_type": "code",
   "execution_count": 7,
   "metadata": {
    "vscode": {
     "languageId": "java"
    }
   },
   "outputs": [
    {
     "name": "stdout",
     "output_type": "stream",
     "text": [
      "2\n",
      "3\n"
     ]
    },
    {
     "ename": "EvalException",
     "evalue": "Index 3 out of bounds for length 3",
     "output_type": "error",
     "traceback": [
      "\u001b[1m\u001b[31m---------------------------------------------------------------------------\u001b[0m",
      "\u001b[1m\u001b[31mjava.lang.ArrayIndexOutOfBoundsException: Index 3 out of bounds for length 3\u001b[0m",
      "\u001b[1m\u001b[31m\tat .(#29:1)\u001b[0m"
     ]
    }
   ],
   "source": [
    "int [] list = new int[3];\n",
    "\n",
    "list[0] = 1;\n",
    "list[1] = 2;\n",
    "list[2] = 3;\n",
    "\n",
    "for (int num : list) {\n",
    "  System.out.println(list[num]);\n",
    "}"
   ]
  },
  {
   "cell_type": "markdown",
   "metadata": {},
   "source": [
    "## Min maxing\n",
    "\n",
    "It is a common task to determine what the largest or smallest value stored is inside an array. in order to do this, we need a method that can ake a parameter of an array of primitive values (`int` or `double`) and return the item that is at the appropriate extreme.\n",
    "\n",
    "Inside the method of a local variable is needed to store the current max of min value that will be compared against all the values in the array. you can assign the current value to be either the opposite extreme or the first item you would be looking at.\n",
    "\n",
    "You can use either a standard `for` loop or an enhanced `for` loop to determine the max or min. Assign the temporary variable a starting value based on what extreme you are searching for.\n",
    "\n",
    "Inside the `for` loop, compare the current value against the local variable, if the current value is better, assign it to the temporary variable. When the loop is over, the local variable will contain the approximate value and is still available and within scope and can be returned from the method.\n",
    "\n",
    "## Popcorn Hacks!\n",
    "Create two lists: one of ints and one of doubles. Use both a standard for loop and an enhanced for loop to find the max and min of each list."
   ]
  },
  {
   "cell_type": "code",
   "execution_count": null,
   "metadata": {
    "vscode": {
     "languageId": "java"
    }
   },
   "outputs": [],
   "source": [
    "/* Popcorn hacks go here! */"
   ]
  }
 ],
 "metadata": {
  "kernelspec": {
   "display_name": "Java",
   "language": "java",
   "name": "java"
  },
  "language_info": {
   "codemirror_mode": "java",
   "file_extension": ".jshell",
   "mimetype": "text/x-java-source",
   "name": "Java",
   "pygments_lexer": "java",
   "version": "11.0.20.1+1-post-Ubuntu-0ubuntu122.04"
  },
  "orig_nbformat": 4
 },
 "nbformat": 4,
 "nbformat_minor": 2
}
