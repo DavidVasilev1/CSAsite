{
 "cells": [
  {
   "cell_type": "markdown",
   "metadata": {},
   "source": [
    "---\n",
    "- title: Test 1 Reflection\n",
    "- author: david\n",
    "- categories: [Lab Notebook]\n",
    "- tags: [Collegeboard, Java]\n",
    "- type: tangibles\n",
    "- week: 12\n",
    "- description: Test 1 reflection.\n",
    "- toc: True\n",
    "- comments: True\n",
    "- date: 2023-11-05 13:00:00 +0000\n",
    "---"
   ]
  }
 ],
 "metadata": {
  "language_info": {
   "name": "python"
  }
 },
 "nbformat": 4,
 "nbformat_minor": 2
}
