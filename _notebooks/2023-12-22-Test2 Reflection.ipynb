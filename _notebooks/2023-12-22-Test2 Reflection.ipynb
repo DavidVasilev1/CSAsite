{
 "cells": [
  {
   "cell_type": "markdown",
   "metadata": {},
   "source": [
    "---\n",
    "- title: Collegeboard Test 2 Reflections\n",
    "- author: david\n",
    "- categories: [Lab Notebook]\n",
    "- tags: [Java]\n",
    "- type: tangibles\n",
    "- week: 17\n",
    "- description: Test 2 Reflection\n",
    "- toc: True\n",
    "- comments: True\n",
    "- date: 2023-12-22 12:00:00 +0000\n",
    "- pin: true\n",
    "---"
   ]
  },
  {
   "cell_type": "code",
   "execution_count": null,
   "metadata": {},
   "outputs": [],
   "source": []
  }
 ],
 "metadata": {
  "language_info": {
   "name": "python"
  }
 },
 "nbformat": 4,
 "nbformat_minor": 2
}
