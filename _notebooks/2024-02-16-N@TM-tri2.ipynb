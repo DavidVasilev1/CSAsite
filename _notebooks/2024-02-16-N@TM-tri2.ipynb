{
 "cells": [
  {
   "cell_type": "markdown",
   "metadata": {},
   "source": [
    "---\n",
    "- title: N@TM Tri 2 Reflection\n",
    "- author: david\n",
    "- categories: [Lab Notebook]\n",
    "- tags: [Java]\n",
    "- type: tangibles\n",
    "- week: 21\n",
    "- description: A reflection on the the trimester 2 N@TM.\n",
    "- toc: True\n",
    "- comments: True\n",
    "- date: 2024-02-16 12:00:00 +0000\n",
    "---"
   ]
  },
  {
   "cell_type": "markdown",
   "metadata": {},
   "source": [
    "## Our Project So Far\n",
    "\n",
    "We have a jwt sign-up and log-in page that is used to record data for training our AI model. We allow the users to customize their user data, such as profile pictures, usernames, and interested stocks. This is our main frontend page:\n",
    "\n",
    "![Image](https://github.com/nighthawkcoders/teacher_portfolio/assets/111480448/0a256321-cca7-454e-993e-8390da0e02ea)\n",
    "\n",
    "We also included some of our predictions, however they weren't very accurate:\n",
    "\n",
    "![Image](https://github.com/nighthawkcoders/teacher_portfolio/assets/111480448/bbd6141a-f875-4a32-85e4-768c3c38e668)\n",
    "\n",
    "This is the data that we were able to capture from the users that came by to see our project:\n",
    "\n",
    "![Image](https://github.com/nighthawkcoders/teacher_portfolio/assets/111480448/48d48c25-b191-4502-b8d6-e52511a3dfb6)\n"
   ]
  },
  {
   "cell_type": "markdown",
   "metadata": {},
   "source": [
    "## Feedback\n",
    "\n",
    "In our project we met with Anthony's father. He is a UCSD professor on cognitive science, where he does research on deep learning using transformers. He suggested to us that we utilize transformers however this might be a bit too difficult to implement because it is a very advanced topic and would take a really long time to implement.\n",
    "\n",
    "![Image](https://github.com/nighthawkcoders/teacher_portfolio/assets/111480448/0e7d3b6e-5100-4c34-b714-385bf4e6cc91)\n",
    "\n",
    "Others recommended that we improve our prediction model to make it more accurate, which we are already working on with a new implementation of our data and how it is formatted.\n",
    "\n",
    "![Image](https://github.com/nighthawkcoders/teacher_portfolio/assets/111480448/f7cbe5e3-b884-4561-a5c8-0eef8878e13d)\n",
    "![Image](https://github.com/nighthawkcoders/teacher_portfolio/assets/111480448/5a6b7002-9c63-43dd-a100-5f2ab2649d9f)\n",
    "\n",
    "![Image](https://github.com/nighthawkcoders/teacher_portfolio/assets/111480448/84263b7b-c7ff-4711-98aa-656c867c878d)"
   ]
  },
  {
   "cell_type": "markdown",
   "metadata": {},
   "source": [
    "## Reflection\n",
    "\n",
    "Glows\n",
    "- Our presentation was pretty good, we explained the code well to the people that were interested and demonstrated the predictions working effectively.\n",
    "- Our integration was really good for being split between two periods, we had most of the features working well, we needed to fine tune some stuff but overall everything worked well.\n",
    "- People were impressed by the LSTM network and how it works, some asked us very in depth questions and we were able to answer them all.\n",
    "\n",
    "Grows\n",
    "- I think we can make our page more appealing and"
   ]
  }
 ],
 "metadata": {
  "language_info": {
   "name": "python"
  }
 },
 "nbformat": 4,
 "nbformat_minor": 2
}
