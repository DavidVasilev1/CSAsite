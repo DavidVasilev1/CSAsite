{
 "cells": [
  {
   "cell_type": "markdown",
   "metadata": {},
   "source": [
    "---\n",
    "- title: Tri 1 Project Reflection\n",
    "- author: david\n",
    "- categories: ['Lesson']\n",
    "- tags: ['Collegeboard', 'Java', 'Unit 10', 'Unit 9']\n",
    "- type: hacks\n",
    "- week: 7\n",
    "- description: Lesson on Java classes.\n",
    "- toc: True\n",
    "- comments: True\n",
    "- date: 2023-10-06 12:00:00 +0000\n",
    "---"
   ]
  }
 ],
 "metadata": {
  "language_info": {
   "name": "python"
  }
 },
 "nbformat": 4,
 "nbformat_minor": 2
}
