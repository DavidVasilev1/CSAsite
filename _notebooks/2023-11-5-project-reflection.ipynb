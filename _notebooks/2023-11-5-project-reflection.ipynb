{
 "cells": [
  {
   "cell_type": "markdown",
   "metadata": {},
   "source": [
    "---\n",
    "- title: Tri 1 Project Reflection\n",
    "- author: david\n",
    "- categories: [Lesson]\n",
    "- tags: [Project, Java]\n",
    "- type: tangibles\n",
    "- week: 12\n",
    "- description: Lesson learned throughout project.\n",
    "- toc: True\n",
    "- comments: True\n",
    "- date: 2023-11-05 12:00:00 +0000\n",
    "---"
   ]
  }
 ],
 "metadata": {
  "language_info": {
   "name": "python"
  }
 },
 "nbformat": 4,
 "nbformat_minor": 2
}
