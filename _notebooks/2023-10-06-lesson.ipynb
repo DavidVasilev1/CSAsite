{
 "cells": [
  {
   "cell_type": "markdown",
   "metadata": {},
   "source": [
    "---\n",
    "- title: Lesson 9.1 and 10.1\n",
    "- author: david\n",
    "- categories: ['Lesson']\n",
    "- tags: ['Collegeboard', 'Java', 'Unit 10', 'Unit 9']\n",
    "- type: hacks\n",
    "- week: 7\n",
    "- description: Lesson on Java classes.\n",
    "- toc: True\n",
    "- comments: True\n",
    "- date: 2023-10-06 12:00:00 +0000\n",
    "---"
   ]
  },
  {
   "cell_type": "markdown",
   "metadata": {},
   "source": [
    "## Superclasses and Subclasses\n",
    "> When multiple classes contain common attributes and behaviors, programmers create a new class containing the shared attributes and behaviors forming a hierarchy. Modifications made at the highest level of the hierarchy apply to the subclasses.\n",
    "\n",
    "\n"
   ]
  }
 ],
 "metadata": {
  "language_info": {
   "name": "python"
  },
  "orig_nbformat": 4
 },
 "nbformat": 4,
 "nbformat_minor": 2
}
