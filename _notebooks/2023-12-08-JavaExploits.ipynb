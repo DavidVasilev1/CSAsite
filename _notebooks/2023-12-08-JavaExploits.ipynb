{
 "cells": [
  {
   "cell_type": "markdown",
   "metadata": {},
   "source": [
    "<!-- ---\n",
    "toc: true\n",
    "comments: true\n",
    "layout: notebook\n",
    "title: SQL, Advanced Data Structs | P1\n",
    "description: Student lessons for HashMaps, HashSets, Collections, and SQL\n",
    "courses: { csa: {week: 16} }\n",
    "type: collab\n",
    "author: Tirth T, Haseeb B, Sreeja G, Ekam K, Drew R, Adan R\n",
    "--- -->"
   ]
  },
  {
   "cell_type": "markdown",
   "metadata": {},
   "source": [
    "---\n",
    "- title: Java Exploits and Cybersecurity\n",
    "- author: david\n",
    "- categories: [Lab Notebook]\n",
    "- tags: [Java]\n",
    "- type: tangibles\n",
    "- week: 17\n",
    "- description: Lesson on Java exploits and cybersecurity.\n",
    "- toc: True\n",
    "- comments: True\n",
    "- date: 2023-12-18 12:00:00 +0000\n",
    "- pin: true\n",
    "---"
   ]
  },
  {
   "cell_type": "markdown",
   "metadata": {},
   "source": [
    "## Common Sense\n",
    "> This section highlights some of the most common ways malicious content is shared and executed to gather sensitive information."
   ]
  },
  {
   "cell_type": "markdown",
   "metadata": {},
   "source": [
    "### HTTP Sites\n",
    "> This involves sites not being certified as secure. This is because they are not using encryption methods, like JWTs, to hide important data from others.\n",
    "\n",
    "In this case we are looking at posting passwords without encryption. Going to [vulnweb.com](http://testphp.vulnweb.com/login.php), a common test site for web attacks, we can test and see how not securing data can be dangerous. Keep in mind that this is highly illegal to do on public networks.\n",
    "\n",
    "We use a network scanner to track information between the internet and the user's device. This basically intercepts all CRUD operations and payloads sent between a website server and user. In this example we enter test data in to the username and password inputs:\n",
    "\n",
    "![image](https://github.com/CSA-Tri-2/CSA-Tri-2/assets/111480448/2d6bd935-79fe-4178-a6b7-7d6292892b8a)\n",
    "\n",
    "It looks like everything is secure to the user, the password is blurred from your general view and the website seems slightly trustworthy. This is however very far from the truth, especially when we begin using the network scanner to see the traffic.\n",
    "\n",
    "![image](https://github.com/CSA-Tri-2/CSA-Tri-2/assets/111480448/199658bd-5a19-45d5-9968-5040ab7913a5)\n",
    "\n",
    "Here we see something that we are all familiar with, a POST. When we open the contents of this post, we can see the following:\n",
    "\n",
    "![image](https://github.com/CSA-Tri-2/CSA-Tri-2/assets/111480448/f7754011-4f85-4f99-9352-1cd0d65a45cf)\n",
    "\n",
    "We can very clearly see the password that was inputted in the password field of the website. This is a very clear reason why you should never store your passwords without the use of JWTs. If I, for example, log into Canvas, we can see an entirely different story:\n",
    "\n",
    "![image](https://github.com/CSA-Tri-2/CSA-Tri-2/assets/111480448/dcbb5d53-6ae3-4cf3-814e-01c39e3f7e54)\n",
    "\n",
    "![image](https://github.com/CSA-Tri-2/CSA-Tri-2/assets/111480448/699f3d35-d63b-4865-9dc4-67fc5d47b70e)\n",
    "\n",
    "Here we can automatically see that all data is encrypted and there is no POST. Instead there is a server handshake followed by an exchange of encrypted data, the passwords.\n",
    "\n",
    "This is why you should never create sites that are insecure and that contain exposed payloads that may contain sensitive information."
   ]
  },
  {
   "cell_type": "markdown",
   "metadata": {},
   "source": [
    "### Phishing\n",
    "> Creating sites that look similar to real sites to steal information.\n",
    "\n",
    "This is another common tool that is extremely easy to replicate with the right tools. Websites that mask themselves as other websites usually catch people that don't pay much attention to what they click. It is extremely easy to create such sites that are port-forwarded through local nginx servers, capturing data that unsuspecting visitors may enter. I can obviously not show you how phishing sites are created however here are a few examples of what they might look like:\n",
    "\n",
    "![image](https://github.com/CSA-Tri-2/CSA-Tri-2/assets/111480448/3fb5213e-0662-4647-a8c5-5a29aba47840)\n",
    "\n",
    "![image](https://github.com/CSA-Tri-2/CSA-Tri-2/assets/111480448/07b3acbb-b9a6-4874-bdf8-5a0fce672087)\n",
    "\n"
   ]
  },
  {
   "cell_type": "markdown",
   "metadata": {},
   "source": [
    "### Keylogging\n",
    "> "
   ]
  },
  {
   "cell_type": "markdown",
   "metadata": {},
   "source": [
    "### Prevention\n"
   ]
  }
 ],
 "metadata": {
  "language_info": {
   "name": "python"
  }
 },
 "nbformat": 4,
 "nbformat_minor": 2
}
