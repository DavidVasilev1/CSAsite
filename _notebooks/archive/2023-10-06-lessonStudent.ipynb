{
 "cells": [
  {
   "cell_type": "markdown",
   "metadata": {},
   "source": [
    "---\n",
    "- title: Lesson 9 Student\n",
    "- author: david\n",
    "- categories: ['Lesson']\n",
    "- tags: ['Collegeboard', 'Java', 'Unit 10', 'Unit 9']\n",
    "- type: hacks\n",
    "- week: 7\n",
    "- description: Lesson on Java classes.\n",
    "- toc: True\n",
    "- comments: True\n",
    "- date: 2023-10-06 12:00:00 +0000\n",
    "---"
   ]
  },
  {
   "cell_type": "markdown",
   "metadata": {},
   "source": [
    "## 9.1 Superclasses and Subclasses\n",
    "> A hierarchy of classes is created, extending attributes into subclasses of information (ie. Automobile --> Trucks and Sedans --> Ford, BMW, Nissan, Toyota). \n",
    "\n",
    "### Pre-Requisites\n",
    "\n",
    "Before we start you need to remember what classes and methods are. Scopes of variables are also important to this section because you need to know which classes can access which variables before extending a variable across classes.\n",
    "\n",
    "#### Scope of Variables:\n",
    "\n",
    "Variables can be declared as private or public.\n",
    "\n",
    "> **Popcorn Hack:** What are scope do private and public variables allow?\n",
    "\n",
    "| Private | Public |\n",
    "|-|-|\n",
    "| only directly accessible within the class they are declared | accessible anywhere inside and outside their class |\n",
    "\n",
    "These are different types of variables. Only `INSTANCE` and `STATIC` variables can be declared as ____ or ____.\n",
    "\n",
    "| Variable Type | Definition | Scope within Class | Scope to Subclasses |\n",
    "|-|-|-|-|\n",
    "|  | variables within methods | cannot be accessed outside method | cannot be accessed outside class |\n",
    "|  | variables within a class but not inside a method | can be accessed in entire class | can be accessed in subclasses |\n",
    "|  | variables that belong to a class, not instance | can be accessed in entire class | can be accessed in subclasses |\n",
    "|  | variables specific in passing values to the method | cannot be accessed outside method | do not affect inheritance |\n",
    "\n",
    "Now we can go into class hierarchies."
   ]
  },
  {
   "cell_type": "markdown",
   "metadata": {},
   "source": [
    "### Class Hierarchy\n",
    "\n",
    "**Definitions**\n",
    "- Superclasses - a class that contains all the common ____ and ____ that could be shared among other classes (a blueprint for subclasses)\n",
    "- Subclasses - extends the ____ to is specified by a superclass; can also have additional specific attributes\n",
    "- \"Is-A\" Relationship - the relationship when a subclass ____ a superclass (ie. Automobile --> Sedan; a Sedan \"is-a\" automobile)\n",
    "\n",
    "#### `extends` Keyword\n",
    "> extends the ____ from the ____"
   ]
  },
  {
   "cell_type": "code",
   "execution_count": 10,
   "metadata": {
    "vscode": {
     "languageId": "java"
    }
   },
   "outputs": [
    {
     "name": "stdout",
     "output_type": "stream",
     "text": [
      "Toyota\n",
      "Car is starting\n",
      "Ford\n",
      "1000\n",
      "Loading cargo into the truck\n",
      "BMW\n",
      "true\n",
      "Sedan is accelerating\n"
     ]
    }
   ],
   "source": [
    "class Automobile {\n",
    "  public String brand; // public instance var\n",
    "  private String model; // private instance var\n",
    "\n",
    "  public Automobile(String brand, String model) {\n",
    "    this.brand = brand;\n",
    "    this.model = model;\n",
    "  }\n",
    "\n",
    "  public void start() {\n",
    "    System.out.println(\"Car is starting\");\n",
    "  }\n",
    "}\n",
    "\n",
    "class Truck extends Automobile {\n",
    "  public int cargoCapacity; // subclass specific var\n",
    "\n",
    "  // instance that is specific to the Truck subclass, with vars from Automobile class\n",
    "  public Truck(String brand, String model, int cargoCapacity) {\n",
    "    super(brand, model); // inherited vars\n",
    "    this.cargoCapacity = cargoCapacity;\n",
    "  }\n",
    "\n",
    "  // specific method to Truck\n",
    "  public void loadCargo() {\n",
    "    System.out.println(\"Loading cargo into the truck\");\n",
    "  }\n",
    "}\n",
    "\n",
    "class Sedan extends Automobile {\n",
    "  public boolean isLuxury; // subclass specific var\n",
    "\n",
    "  // instance that is specific to the Sedan subclass, with vars from Automobile class\n",
    "  public Sedan(String brand, String model, boolean isLuxury) {\n",
    "    super(brand, model); // inherited vars\n",
    "    this.isLuxury = isLuxury;\n",
    "  }\n",
    "\n",
    "  // specific method to Sedan\n",
    "  public void accelerate() {\n",
    "    System.out.println(\"Sedan is accelerating\");\n",
    "  }\n",
    "}\n",
    "\n",
    "public class Main {\n",
    "    public static void main(String[] args) {\n",
    "        Automobile car = new Automobile(\"Toyota\", \"Camry\");\n",
    "        Truck truck = new Truck(\"Ford\", \"F-150\", 1000);\n",
    "        Sedan sedan = new Sedan(\"BMW\", \"328i\", true);\n",
    "\n",
    "        // automobile methods and variables\n",
    "        System.out.println(car.brand); // Accessing public variable\n",
    "        // System.out.println(car.model); // compilation error because of the private var\n",
    "        car.start();\n",
    "\n",
    "\n",
    "        // truck methods and variables\n",
    "        System.out.println(truck.brand); // inherited public var\n",
    "        System.out.println(truck.cargoCapacity); // public var specific to truck\n",
    "        truck.loadCargo();\n",
    "\n",
    "\n",
    "        // sedan methods and variables\n",
    "        System.out.println(sedan.brand); // inherited public var\n",
    "        System.out.println(sedan.isLuxury); // public var specific to sedan\n",
    "        sedan.accelerate();\n",
    "    }\n",
    "}\n",
    "\n",
    "Main.main(null);"
   ]
  },
  {
   "cell_type": "markdown",
   "metadata": {},
   "source": [
    "This example shows how the `Automobile` class is extended twice, with the `Truck` and `Sedan` subclasses.\n",
    "\n",
    "> **Popcorn Hack:** If I were to declare a variable `color` that is `private` in the class Automobile, would I be able to extend and directly access that variable to the subclass `Truck` or `Sedan`?\n",
    "\n",
    "A: No, you would need to encapsulate the private variable as shown above, through a method in the superclass and then inherit that var with `super()`, which will be explained later."
   ]
  },
  {
   "cell_type": "markdown",
   "metadata": {},
   "source": [
    "## 9.2 Writing Constructors for Subclasses\n",
    "\n",
    "### Learning Objectives\n",
    "\n",
    "- Constructors are not inherited\n",
    "- When a subclass's constructor doesn't explicitly call a superclass's constructor using `super`, Java inserts a call to the superclass's no-argument constructor.\n",
    "- The actual parameters passed in the call to the superclass constructor provide values that the constructor can use to initialize the object's instance variables.\n",
    "- Regardless of whether the superclass constructor is called implicitly or explicitly, the process of calling superclass constructors continues until the Object constructor is called. At this point, all of the constructors within the hierarchy execute beginning with the Object constructor.\n",
    "\n",
    "**Important note:** Constructors are NOT inherited by the subclass. See this in action below."
   ]
  },
  {
   "cell_type": "code",
   "execution_count": 2,
   "metadata": {
    "vscode": {
     "languageId": "java"
    }
   },
   "outputs": [],
   "source": [
    "// TO BE INCLUDED EARLIER IN THE LESSON. IT IS NECESSARY FOR THE FUNCTIONALITY OF THIS SECTION.\n",
    "\n",
    "class Vehicle {\n",
    "    public int year;\n",
    "    public String manufacturer;\n",
    "\n",
    "    public Vehicle(int year, String manufacturer) { // constructor for parent class\n",
    "        this.year = year;\n",
    "        this.manufacturer = manufacturer;\n",
    "    }\n",
    "\n",
    "    public Vehicle() {\n",
    "        this.year = 2000;\n",
    "        this.manufacturer = \"Unknown\";\n",
    "    }\n",
    "\n",
    "    // method to be used later\n",
    "    public void drive() {\n",
    "        System.out.println(\"The driver is driving the car.\");\n",
    "    }\n",
    "}"
   ]
  },
  {
   "cell_type": "code",
   "execution_count": 3,
   "metadata": {
    "vscode": {
     "languageId": "java"
    }
   },
   "outputs": [
    {
     "name": "stdout",
     "output_type": "stream",
     "text": [
      "Year: 2000\n",
      "Manufacturer: Unknown\n",
      "Model: Altima\n"
     ]
    }
   ],
   "source": [
    "class Car extends Vehicle {\n",
    "    public String model;\n",
    "\n",
    "    public Car(String model) {\n",
    "        this.model = model;\n",
    "    }\n",
    "}\n",
    "\n",
    "public class VehicleDemonstration {\n",
    "    public static void main(String[] args) {\n",
    "        Car myCar = new Car(\"Altima\");\n",
    "        System.out.println(\"Year: \" + myCar.year);\n",
    "        System.out.println(\"Manufacturer: \" + myCar.manufacturer);\n",
    "        System.out.println(\"Model: \" + myCar.model);\n",
    "    }\n",
    "}\n",
    "\n",
    "VehicleDemonstration.main(null);"
   ]
  },
  {
   "cell_type": "markdown",
   "metadata": {},
   "source": [
    "As you can see, the output uses the no-argument construction info from the base `Vehicle` constructor.\n",
    "\n",
    "The `super` keyword can be used to change parent constructor values."
   ]
  },
  {
   "cell_type": "code",
   "execution_count": 4,
   "metadata": {
    "vscode": {
     "languageId": "java"
    }
   },
   "outputs": [
    {
     "name": "stdout",
     "output_type": "stream",
     "text": [
      "Year: 2016\n",
      "Manufacturer: Nissan\n",
      "Model: Altima\n"
     ]
    }
   ],
   "source": [
    "class NewCar extends Vehicle {\n",
    "    public String model;\n",
    "\n",
    "    public NewCar(int year, String manufacturer, String model) {\n",
    "        super(year, manufacturer); // see the use of super here\n",
    "        // what happens if you use no arguments with super()? see reminders below\n",
    "        this.model = model;\n",
    "    }\n",
    "}\n",
    "\n",
    "public class VehicleDemonstration2 {\n",
    "    public static void main(String[] args) {\n",
    "        NewCar myCar = new NewCar(2016, \"Nissan\", \"Altima\");\n",
    "        System.out.println(\"Year: \" + myCar.year);\n",
    "        System.out.println(\"Manufacturer: \" + myCar.manufacturer);\n",
    "        System.out.println(\"Model: \" + myCar.model);\n",
    "    }\n",
    "}\n",
    "\n",
    "VehicleDemonstration2.main(null);"
   ]
  },
  {
   "cell_type": "markdown",
   "metadata": {},
   "source": [
    "#### Key Reminders:\n",
    "\n",
    "1. If you do call `super()` in your constructor, it <mark>has to be the first line of the constructor</mark>.\n",
    "2. You <mark>cannot</mark> assign values to parent attributes/variables without using `super()`.\n",
    "3. If you call `super()` with no arguments, <mark>it will use the no-argument parent constructor</mark>. This also happens automatically if you don't include any `super()` call.\n",
    "\n",
    "## 9.3 Overriding Methods\n",
    "\n",
    "### Learning Objectives\n",
    "\n",
    "- Method overriding occurs when a public method in a subclass has the same method signature as a public method in the superclass.\n",
    "- Any method that is called must be defined within its own class or its superclass.\n",
    "- A subclass is usually designed to have modified (overwritten) or additional methods or instance variables.\n",
    "- A subclass will inherit all public methods from the superclass; these methods remain public in the subclass.\n",
    "\n",
    "There are three options for methods to be used by subclasses:\n",
    "\n",
    "1. Methods inherited from the parent class\n",
    "2. Unique methods written for the subclass\n",
    "3. Override parent methods to modify its implementation\n",
    "\n",
    "The first two should make sense. Let's see an example of overriding parent methods below."
   ]
  },
  {
   "cell_type": "code",
   "execution_count": 5,
   "metadata": {
    "vscode": {
     "languageId": "java"
    }
   },
   "outputs": [
    {
     "name": "stdout",
     "output_type": "stream",
     "text": [
      "This car is driving itself!\n"
     ]
    }
   ],
   "source": [
    "public class NuroCar extends Vehicle {\n",
    "    private String deliveryItem;\n",
    "\n",
    "    // unique constructor\n",
    "    public NuroCar(int year, String manufacturer, String deliveryItem) {\n",
    "        super(year, manufacturer); // another use of super\n",
    "        this.deliveryItem = deliveryItem;\n",
    "    }\n",
    "\n",
    "    // HERE is the overridden function\n",
    "    public void drive() {\n",
    "        System.out.println(\"This car is driving itself!\");\n",
    "    }\n",
    "}\n",
    "\n",
    "public class VehicleDemonstration3 {\n",
    "    public static void main(String[] args) {\n",
    "        NuroCar pizzaCar = new NuroCar(2023, \"Nuro\", \"Pizza\");\n",
    "        // here's the call to the overridden function\n",
    "        pizzaCar.drive();\n",
    "    }\n",
    "}\n",
    "\n",
    "VehicleDemonstration3.main(null);"
   ]
  },
  {
   "cell_type": "markdown",
   "metadata": {},
   "source": [
    "This can be very helpful if you want a certain parent method to function slightly differently for a certain subclass.\n",
    "\n",
    "#### Popcorn Hack\n",
    "\n",
    "A parent class `Animal` is often used to show how subclasses can differ from their parent classes. An `Animal` parent class is provided in the cell below. Create a subclass of a certain species that <mark>overrides a parent method</mark> and <mark>uses `super` to call to the parent's constructor while adding its own unique attributes</mark>.\n",
    "\n",
    "Hint: <button id=\"but1\" onclick=\"hint(1)\">See Hint</button>\n",
    "<div id=\"hint1\" style=\"display:none;\">Not all animals \"run\" like the `move()` function says...</div>\n",
    "<script>\n",
    "    function hint(number) {\n",
    "        document.getElementById(\"but\" + String(number)).style.display = \"none\";\n",
    "        document.getElementById(\"hint\" + String(number)).style.display = \"block\";\n",
    "    }\n",
    "</script>"
   ]
  },
  {
   "cell_type": "code",
   "execution_count": null,
   "metadata": {
    "vscode": {
     "languageId": "java"
    }
   },
   "outputs": [],
   "source": [
    "// parent class\n",
    "public class Animal {\n",
    "    private String species;\n",
    "    private int milesPerHour;\n",
    "\n",
    "    // no argument constructor\n",
    "    public Animal() {\n",
    "        this.species = \"Unknown\";\n",
    "        this.milesPerHour = 10;\n",
    "    }\n",
    "\n",
    "    // constructor with arguments\n",
    "    public Animal(String species, int milesPerHour) {\n",
    "        this.species = species;\n",
    "        this.milesPerHour = milesPerHour;\n",
    "    }\n",
    "\n",
    "    // parent method\n",
    "    public void move() {\n",
    "        System.out.println(\"The \" + this.species.toLowerCase() + \" runs at \" + this.milesPerHour + \" miles per hour.\");\n",
    "    }\n",
    "}\n",
    "\n",
    "// your subclass goes here"
   ]
  },
  {
   "cell_type": "markdown",
   "metadata": {},
   "source": [
    "## 9.4 Super Keyword"
   ]
  },
  {
   "cell_type": "markdown",
   "metadata": {},
   "source": [
    "### Using the super keyword to call a superclass's method."
   ]
  },
  {
   "cell_type": "code",
   "execution_count": 6,
   "metadata": {
    "vscode": {
     "languageId": "java"
    }
   },
   "outputs": [
    {
     "name": "stdout",
     "output_type": "stream",
     "text": [
      "BalletDancer class: \n",
      "Honing my craft!\n",
      "Leaping...\n",
      "Spinning...\n"
     ]
    }
   ],
   "source": [
    "public class Performer { //superclass\n",
    "    public void practice(){\n",
    "        System.out.println(\"Honing my craft!\");\n",
    "    }\n",
    "    public void perform(){\n",
    "        System.out.println(\"Performing for an audience!\");\n",
    "    }\n",
    "}\n",
    "\n",
    "public class Dancer extends Performer { //subclass\n",
    "    public void perform(){\n",
    "        System.out.println(\"Dancing on the stage!\");\n",
    "    }\n",
    "}\n",
    "\n",
    "public class BalletDancer extends Dancer { //subclass\n",
    "    public void jete(){\n",
    "        System.out.println(\"Leaping...\");\n",
    "    }\n",
    "    public void pirouette(){\n",
    "        System.out.println(\"Spinning...\");\n",
    "    }\n",
    "    public void perform(){\n",
    "        jete();\n",
    "        pirouette();\n",
    "    }\n",
    "        public static void main(String[] args){\n",
    "            BalletDancer derrick = new BalletDancer();\n",
    "            derrick.practice();\n",
    "            derrick.perform();\n",
    "        }\n",
    "}\n",
    "\n",
    "System.out.println(\"BalletDancer class: \");\n",
    "BalletDancer.main(null);"
   ]
  },
  {
   "cell_type": "code",
   "execution_count": null,
   "metadata": {
    "vscode": {
     "languageId": "java"
    }
   },
   "outputs": [],
   "source": [
    "public class Performer { //superclass of Dancer class\n",
    "    public void practice(){\n",
    "        System.out.println(\"Honing my craft!\");\n",
    "    }\n",
    "    public void perform(){\n",
    "        System.out.println(\"Performing for an audience!\");\n",
    "    }\n",
    "}\n",
    "\n",
    "public class Dancer extends Performer { //superclass of BalletDancer class\n",
    "    public void perform(){\n",
    "        System.out.println(\"Dancing on the stage!\");\n",
    "    }\n",
    "}\n",
    "\n",
    "public class BalletDancer extends Dancer {\n",
    "    public void jete(){\n",
    "        System.out.println(\"Leaping...\");\n",
    "    }\n",
    "    public void pirouette(){\n",
    "        System.out.println(\"Spinning...\");\n",
    "    }\n",
    "    public void perform(){ \n",
    "        perform();//Why is this wrong?\n",
    "        jete();\n",
    "        pirouette();\n",
    "    }\n",
    "        public static void main(String[] args){\n",
    "            BalletDancer derrick = new BalletDancer();\n",
    "            derrick.practice();\n",
    "            derrick.perform();\n",
    "        }\n",
    "}\n",
    "\n",
    "System.out.println(\"BalletDancer class: \");\n",
    "BalletDancer.main(null);"
   ]
  },
  {
   "cell_type": "markdown",
   "metadata": {},
   "source": [
    "### Note:\n",
    "Super keyword can be placed in any order as it prints out chronologically. "
   ]
  },
  {
   "cell_type": "code",
   "execution_count": null,
   "metadata": {
    "vscode": {
     "languageId": "java"
    }
   },
   "outputs": [],
   "source": [
    "public void perform(){ \n",
    "    super.perform();\n",
    "    jete();\n",
    "    pirouette();\n",
    "}"
   ]
  },
  {
   "cell_type": "code",
   "execution_count": null,
   "metadata": {
    "vscode": {
     "languageId": "java"
    }
   },
   "outputs": [],
   "source": [
    "\"Honing my craft!\n",
    "Dancing on the stage!\n",
    "Leaping...\n",
    "Spinning...\""
   ]
  },
  {
   "cell_type": "markdown",
   "metadata": {},
   "source": [
    "#### However, if we were to write:"
   ]
  },
  {
   "cell_type": "code",
   "execution_count": null,
   "metadata": {
    "vscode": {
     "languageId": "java"
    }
   },
   "outputs": [],
   "source": [
    "public void perform(){ \n",
    "    jete();\n",
    "    pirouette();\n",
    "    super.perform();\n",
    "}"
   ]
  },
  {
   "cell_type": "code",
   "execution_count": null,
   "metadata": {
    "vscode": {
     "languageId": "java"
    }
   },
   "outputs": [],
   "source": [
    "\"Honing my craft!\n",
    "Leaping...\n",
    "Spinning...\n",
    "Dancing on the stage!\""
   ]
  },
  {
   "cell_type": "markdown",
   "metadata": {},
   "source": [
    "### What if we use 2 super keywords?"
   ]
  },
  {
   "cell_type": "code",
   "execution_count": 8,
   "metadata": {
    "vscode": {
     "languageId": "java"
    }
   },
   "outputs": [
    {
     "name": "stdout",
     "output_type": "stream",
     "text": [
      "BalletDancer class: \n",
      "Honing my craft!\n",
      "Performing for an audience!\n",
      "Dancing on the stage!\n",
      "Leaping...\n",
      "Spinning...\n"
     ]
    }
   ],
   "source": [
    "public class Performer { //superclass\n",
    "    public void practice(){\n",
    "        System.out.println(\"Honing my craft!\");\n",
    "    }\n",
    "    public void perform(){\n",
    "        System.out.println(\"Performing for an audience!\");\n",
    "    }\n",
    "}\n",
    "\n",
    "public class Dancer extends Performer { //subclass\n",
    "    public void perform(){\n",
    "        super.perform();\n",
    "        System.out.println(\"Dancing on the stage!\");\n",
    "    }\n",
    "}\n",
    "\n",
    "public class BalletDancer extends Dancer { //subclass\n",
    "    public void jete(){\n",
    "        System.out.println(\"Leaping...\");\n",
    "    }\n",
    "    public void pirouette(){\n",
    "        System.out.println(\"Spinning...\");\n",
    "    }\n",
    "    public void perform(){\n",
    "        super.perform();\n",
    "        jete();\n",
    "        pirouette();\n",
    "    }\n",
    "        public static void main(String[] args){\n",
    "            BalletDancer derrick = new BalletDancer();\n",
    "            derrick.practice();\n",
    "            derrick.perform();\n",
    "        }\n",
    "}\n",
    "\n",
    "System.out.println(\"BalletDancer class: \");\n",
    "BalletDancer.main(null);"
   ]
  },
  {
   "cell_type": "markdown",
   "metadata": {},
   "source": [
    "### Popcorn Hack\n",
    "Create a subclass and a superclass by calling the methods from the superclass from the subclass using the keyword super.\n"
   ]
  },
  {
   "cell_type": "code",
   "execution_count": null,
   "metadata": {
    "vscode": {
     "languageId": "java"
    }
   },
   "outputs": [],
   "source": [
    "// place code here"
   ]
  },
  {
   "cell_type": "markdown",
   "metadata": {},
   "source": [
    "## Hacks\n",
    "\n",
    "Create a superclass with at least 2 subclasses based on your own topic.\n",
    "\n",
    "- Create a DrawIO diagram for your structure\n",
    "- Create a superclass on your own topic\n",
    "- Create at least two subclasses\n",
    "- Each class must create at least two methods, one private and public variable, and examples of local, static, instance, and parameter variables\n",
    "- Override at least one method\n",
    "- Use the `super` keyword at least once"
   ]
  }
 ],
 "metadata": {
  "kernelspec": {
   "display_name": "Java",
   "language": "java",
   "name": "java"
  },
  "language_info": {
   "codemirror_mode": "java",
   "file_extension": ".jshell",
   "mimetype": "text/x-java-source",
   "name": "Java",
   "pygments_lexer": "java",
   "version": "11.0.20+8-post-Ubuntu-1ubuntu120.04"
  },
  "orig_nbformat": 4
 },
 "nbformat": 4,
 "nbformat_minor": 2
}
