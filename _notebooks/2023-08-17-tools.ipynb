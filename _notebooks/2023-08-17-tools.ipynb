{
 "cells": [
  {
   "cell_type": "markdown",
   "metadata": {},
   "source": [
    "---\n",
    "- title: CSA Tools\n",
    "- author: david\n",
    "- categories: [Homework]\n",
    "- tags: [Linux, Bash]\n",
    "- description: A Tech Talk on Linux and the Bash shell.\n",
    "- toc: true\n",
    "- comments: true\n",
    "- date: 2023-08-17 12:00:00 +0000\n",
    "---"
   ]
  },
  {
   "cell_type": "code",
   "execution_count": null,
   "metadata": {},
   "outputs": [],
   "source": []
  }
 ],
 "metadata": {
  "language_info": {
   "name": "python"
  },
  "orig_nbformat": 4
 },
 "nbformat": 4,
 "nbformat_minor": 2
}
