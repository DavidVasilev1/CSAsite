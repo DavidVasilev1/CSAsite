{
 "cells": [
  {
   "cell_type": "markdown",
   "metadata": {},
   "source": [
    "---\n",
    "- title: FRQ Mini-Lab 1\n",
    "- author: david\n",
    "- categories: [Lab Notebook]\n",
    "- tags: [Java, Collegeboard]\n",
    "- type: tangibles\n",
    "- week: 0 \n",
    "- description: First CSA FRQ.\n",
    "- toc: true\n",
    "- comments: true\n",
    "- date: 2023-09-13 12:00:00 +0000\n",
    "---"
   ]
  },
  {
   "cell_type": "markdown",
   "metadata": {},
   "source": [
    "## FRQ 2018 Number 4\n",
    "\n",
    "This question involves reasoning about arrays of integers. You will write two static methods, both of which are\n",
    "a class named `ArrayTester`."
   ]
  },
  {
   "cell_type": "code",
   "execution_count": null,
   "metadata": {},
   "outputs": [],
   "source": [
    "public class ArrayTester {\n",
    "\n",
    "    // Returns an array containing the elements of column c of arr2D in the same order as they appearin arr2D.\n",
    "    // Precondition: c isa valid column index in arr2D.\n",
    "    // Postcondition: arr2D is unchanged.\n",
    "\n",
    "  public static int[] getColumn(int [] [] arr2D, int c) {\n",
    "    // to be implemented in part (a)\n",
    "  }\n",
    "\n",
    "  // Returns true if and only if every value in arrl appears in arr2.\n",
    "  // Precondition: arr1 and arr2 have the same length.\n",
    "  // Postcondition: arrl and arr2 are unchanged.\n",
    "\n",
    "  public static boolean hasAllVa1ues(int[] arrl, int[] arr2) { \n",
    "    // implementation not shown\n",
    "  }\n",
    "\n",
    "  // Returns true if arr contains any duplicate values;\n",
    "  //         false otherwise.\n",
    "\n",
    "  public static boolean containsDup1icates(int [] arr) {\n",
    "    // implementation not shown\n",
    "  }\n",
    "\n",
    "  // Returns true if square is a Latin square as described in part (b);\n",
    "  //         false otherwise.\n",
    "  // Precondition: square has an equal number of rows and columns.\n",
    "  //               square has at least one row.\n",
    "\n",
    "  public static boolean isLatin(int [] [] square){\n",
    "    // to be implemented in part (b)\n",
    "  }\n",
    "}"
   ]
  },
  {
   "cell_type": "markdown",
   "metadata": {},
   "source": [
    "### Part A"
   ]
  },
  {
   "cell_type": "markdown",
   "metadata": {},
   "source": [
    "Write a static method `getColumn`, which returns a one-dimensional array containing the elements of a\n",
    "single column in a two-dimensional array. The elements in the returned array should be in the same order as\n",
    "they appear in the given column. The notation `arr2D [r] [c]` represents the array element at row `r` and\n",
    "column `c`.\n",
    "\n",
    "The following code segment initializes an array and calls the `getColumn` method."
   ]
  },
  {
   "cell_type": "code",
   "execution_count": null,
   "metadata": {},
   "outputs": [],
   "source": [
    "int [] [] arr2D = { { 0, 1, 2 },\n",
    "                    { 3, 4, 5 },\n",
    "                    { 6, 7, 8 },\n",
    "                    { 9, 5, 3 } };\n",
    "\n",
    "int [] result = ArrayTester.getColumn(arr2D, 1);"
   ]
  },
  {
   "cell_type": "markdown",
   "metadata": {},
   "source": [
    "When the code segment has completed execution, the variable `result` will have the following contents.\n",
    "\n",
    "`result: { 1, 4, 7, 5 }`"
   ]
  },
  {
   "cell_type": "markdown",
   "metadata": {},
   "source": [
    "### Answer for Part A"
   ]
  },
  {
   "cell_type": "code",
   "execution_count": 62,
   "metadata": {},
   "outputs": [
    {
     "name": "stdout",
     "output_type": "stream",
     "text": [
      "1\n",
      "4\n",
      "7\n",
      "5\n"
     ]
    }
   ],
   "source": [
    "public class ArrayTester {\n",
    "  static int[][] arr2D = { { 0, 1, 2 },\n",
    "                          { 3, 4, 5 },\n",
    "                          { 6, 7, 8 },\n",
    "                          { 9, 5, 3 } };\n",
    "\n",
    "  public static int[] getColumn(int[][] arr2D, int c) {\n",
    "    // creates var that stores result, and is the length of overall array (length = number of rows)\n",
    "    int[] result = new int[arr2D.length];\n",
    "\n",
    "    // sets index to 0\n",
    "    // when i < number of rows\n",
    "    // adds 1 to i after each iteration\n",
    "    for (int i = 0; i < arr2D.length; i++) {\n",
    "      // gathers data from the row number it is on, from the addressed column\n",
    "      // stores in the var result\n",
    "      result[i] = arr2D[i][c];\n",
    "    }\n",
    "    // returns values of results\n",
    "    return result;\n",
    "  }\n",
    "\n",
    "\n",
    "  public static void main(String[] args) {\n",
    "    // same as:\n",
    "    // int [] result = ArrayTester.getColumn(arr2D, 1);\n",
    "    int[] column = getColumn(arr2D, 1);\n",
    "\n",
    "    // go through result and print\n",
    "    for (int value : column) {\n",
    "      // print result\n",
    "      System.out.println(value);\n",
    "    }\n",
    "  }\n",
    "}\n",
    "\n",
    "ArrayTester.main(null);"
   ]
  },
  {
   "cell_type": "markdown",
   "metadata": {},
   "source": [
    "### Part B\n",
    "\n",
    "Write the static method `isLatin`, which returns true if a given two-dimensional square array is a\n",
    "*Latin square*, and otherwise, returns `false`.\n",
    "\n",
    "A two-dimensional square array of integers is a Latin square if the following conditions are true.\n",
    "\n",
    "- The first row has no duplicate values.\n",
    "- All values in the first row of the square appear in each row of the square.\n",
    "- All values in the first row of the square appear in each column of the square.\n",
    "\n",
    "The `ArrayTester` class provides two helper methods: `containsDuplicates` and\n",
    "`hasA11Values`. The method `containsDuplicates` returns true if the given one-dimensional\n",
    "array `arr` contains any duplicate values and false otherwise. The method `hasA1lVa1ues` returns\n",
    "`true` if and only if every value in `arrl` appears in `arr2`. You do not need to write the code for these\n",
    "methods."
   ]
  },
  {
   "cell_type": "markdown",
   "metadata": {},
   "source": [
    "### Answer for Part B"
   ]
  },
  {
   "cell_type": "code",
   "execution_count": 82,
   "metadata": {},
   "outputs": [
    {
     "name": "stdout",
     "output_type": "stream",
     "text": [
      "false\n"
     ]
    }
   ],
   "source": [
    "public class ArrayTester {\n",
    "  static int[][] arr2D = { { 0, 1, 2 },\n",
    "                          { 3, 4, 5 },\n",
    "                          { 6, 7, 8 },\n",
    "                          { 9, 5, 3 } };\n",
    "\n",
    "  public static int[] getColumn(int[][] arr2D, int c) {\n",
    "    int[] result = new int[arr2D.length];\n",
    "\n",
    "    for (int i = 0; i < arr2D.length; i++) {\n",
    "      result[i] = arr2D[i][c];\n",
    "    }\n",
    "    return result;\n",
    "  }\n",
    "\n",
    "// CHATGPT\n",
    "\n",
    "  // Returns true if and only if every value in arrl appears in arr2.\n",
    "  // Precondition: arr1 and arr2 have the same length.\n",
    "  // Postcondition: arrl and arr2 are unchanged.\n",
    "\n",
    "  public static boolean hasAllValues(int[] arr1, int[] arr2) {\n",
    "      for (int i = 0; i < arr1.length; i++) {\n",
    "        boolean found = false;\n",
    "        for (int j = 0; j < arr2.length; j++) {\n",
    "          if (arr1[i] == arr2[j]) {\n",
    "            found = true;\n",
    "            break; // Value found in arr2, move to the next value in arr1\n",
    "          }\n",
    "        }\n",
    "        if (!found) {\n",
    "          return false; // Value in arr1 not found in arr2\n",
    "        }\n",
    "      }\n",
    "      return true; // All values in arr1 found in arr2\n",
    "    }\n",
    "\n",
    "\n",
    "  // Returns true if arr contains any duplicate values;\n",
    "  //         false otherwise.\n",
    "\n",
    "  public static boolean containsDuplicates(int[] arr) {\n",
    "    for (int i = 0; i < arr.length - 1; i++) {\n",
    "      for (int j = i + 1; j < arr.length; j++) {\n",
    "        if (arr[i] == arr[j]) {\n",
    "          return true; // Found a duplicate\n",
    "        }\n",
    "      }\n",
    "    }\n",
    "    return false; // No duplicates found\n",
    "  }\n",
    "\n",
    "// END CHATGPT\n",
    "\n",
    "  public static boolean isLatin(int[][] square){\n",
    "    // checks for duplicate numbers\n",
    "    if (!containsDuplicates(square[0])) {\n",
    "      return false;\n",
    "    }\n",
    "\n",
    "    // checks for if all rows have all values\n",
    "    for (int i = 1; i < square.length; i++) {\n",
    "      if (!hasAllValues(square[0], square[i])) {\n",
    "        return false;\n",
    "      }\n",
    "    }\n",
    "\n",
    "    // checks for if all columns have all values\n",
    "    for (int c = 0; c < square[0].length; c++) {\n",
    "      if (!hasAllValues(square[0], getColumn(square, c))) {\n",
    "        return false;\n",
    "      }\n",
    "    }\n",
    "\n",
    "    // returns true if all tests are complete and don't return false\n",
    "    return true;\n",
    "  }\n",
    "\n",
    "  // prints boolean\n",
    "  public static void main(String[] args) {\n",
    "    boolean result = isLatin(arr2D);\n",
    "    System.out.println(result);\n",
    "  }\n",
    "}\n",
    "\n",
    "ArrayTester.main(null);"
   ]
  }
 ],
 "metadata": {
  "kernelspec": {
   "display_name": "Java",
   "language": "java",
   "name": "java"
  },
  "language_info": {
   "codemirror_mode": "java",
   "file_extension": ".jshell",
   "mimetype": "text/x-java-source",
   "name": "java",
   "pygments_lexer": "java",
   "version": "11.0.20+8-post-Ubuntu-1ubuntu120.04"
  },
  "orig_nbformat": 4
 },
 "nbformat": 4,
 "nbformat_minor": 2
}
