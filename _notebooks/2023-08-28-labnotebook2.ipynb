{
 "cells": [
  {
   "cell_type": "markdown",
   "metadata": {},
   "source": [
    "---\n",
    "- title: Lab Notebook 2\n",
    "- author: david\n",
    "- categories: [Lab Notebook]\n",
    "- tags: [Java, ]\n",
    "- week: 1\n",
    "- description: Week 1 lab work.\n",
    "- toc: true\n",
    "- comments: true\n",
    "- date: 2023-08-26 12:00:00 +0000\n",
    "---"
   ]
  },
  {
   "cell_type": "markdown",
   "metadata": {},
   "source": [
    "teyituryikjfgjhj"
   ]
  },
  {
   "cell_type": "code",
   "execution_count": null,
   "metadata": {},
   "outputs": [],
   "source": []
  }
 ],
 "metadata": {
  "language_info": {
   "name": "python"
  },
  "orig_nbformat": 4
 },
 "nbformat": 4,
 "nbformat_minor": 2
}
