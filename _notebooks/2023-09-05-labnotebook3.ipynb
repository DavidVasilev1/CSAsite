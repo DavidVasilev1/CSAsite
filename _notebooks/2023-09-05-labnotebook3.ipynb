{
 "cells": [
  {
   "cell_type": "markdown",
   "metadata": {},
   "source": [
    "---\n",
    "- title: Lab Notebook 3\n",
    "- author: david\n",
    "- categories: [Lab Notebook]\n",
    "- tags: [HTML, CSS, Javascript]\n",
    "- type: tangibles\n",
    "- week: 3\n",
    "- description: Week 3 lab work.\n",
    "- toc: true\n",
    "- comments: true\n",
    "- pin: true\n",
    "- date: 2023-09-05 12:00:00 +0000\n",
    "---"
   ]
  },
  {
   "cell_type": "markdown",
   "metadata": {},
   "source": [
    "## Pair Programming\n",
    "\n"
   ]
  }
 ],
 "metadata": {
  "language_info": {
   "name": "python"
  },
  "orig_nbformat": 4
 },
 "nbformat": 4,
 "nbformat_minor": 2
}
