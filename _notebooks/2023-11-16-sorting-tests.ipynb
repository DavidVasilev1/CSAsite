{
 "cells": [
  {
   "cell_type": "code",
   "execution_count": 14,
   "metadata": {
    "vscode": {
     "languageId": "java"
    }
   },
   "outputs": [
    {
     "name": "stdout",
     "output_type": "stream",
     "text": [
      "12 11 13 5 6 \n",
      "5 6 11 12 13 \n"
     ]
    }
   ],
   "source": [
    "class Sort {\n",
    "  public void insertion(int arr[]) {\n",
    "    int n = arr.length;\n",
    "    for (int i = 1; i < n; i++) {\n",
    "      int x = arr[i];\n",
    "      int j = i - 1;\n",
    "  \n",
    "      while (j >= 0 && arr[j] > x) {\n",
    "        arr[j + 1] = arr[j];\n",
    "        j = j - 1;\n",
    "      }\n",
    "      arr[j + 1] = x;\n",
    "    }\n",
    "  }\n",
    "\n",
    "  static void printArray(int arr[])\n",
    "    {\n",
    "        int n = arr.length;\n",
    "        for (int i = 0; i < n; ++i)\n",
    "            System.out.print(arr[i] + \" \");\n",
    " \n",
    "        System.out.println();\n",
    "    }\n",
    " \n",
    "    // Driver method\n",
    "    public static void main(String args[])\n",
    "    {\n",
    "        int arr[] = { 12, 11, 13, 5, 6 };\n",
    "\n",
    "        printArray(arr);\n",
    "\n",
    "        Sort ob = new Sort();\n",
    "        ob.insertion(arr);\n",
    " \n",
    "        printArray(arr);\n",
    "    }\n",
    "}\n",
    "\n",
    "Sort.main(null);"
   ]
  },
  {
   "cell_type": "code",
   "execution_count": null,
   "metadata": {
    "vscode": {
     "languageId": "java"
    }
   },
   "outputs": [],
   "source": []
  }
 ],
 "metadata": {
  "kernelspec": {
   "display_name": "Java",
   "language": "java",
   "name": "java"
  },
  "language_info": {
   "codemirror_mode": "java",
   "file_extension": ".jshell",
   "mimetype": "text/x-java-source",
   "name": "Java",
   "pygments_lexer": "java",
   "version": "11.0.20.1+1-post-Ubuntu-0ubuntu122.04"
  }
 },
 "nbformat": 4,
 "nbformat_minor": 2
}
