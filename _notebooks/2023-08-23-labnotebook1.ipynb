{
 "cells": [
  {
   "cell_type": "markdown",
   "metadata": {},
   "source": [
    "---\n",
    "- title: Lab Notebook 1\n",
    "- author: david\n",
    "- categories: [Lab Notebook]\n",
    "- tags: [Linux, Bash, Web Dev]\n",
    "- week: 1\n",
    "- description: Week 1 lab work.\n",
    "- toc: true\n",
    "- comments: true\n",
    "- date: 2023-08-23 12:00:00 +0000\n",
    "---"
   ]
  },
  {
   "cell_type": "markdown",
   "metadata": {},
   "source": [
    "## Linux Shell Hacks and Notes\n",
    "\n",
    "- commands are just what is used to navigate linux terminal\n",
    "- ```echo``` - prints statements\n",
    "- ```apt``` - \"advanced package tool\" used to install various files that are online\n",
    "- ```if/else``` - these statements can be used in terminal too, to check if something is fulfilled\n",
    "- ```-v/-version/--version``` - can be used to check the versions of what is installed, useful for debugging\n",
    "- ```git``` - universal for any commands used for doing things with github\n",
    "- ```gem``` - universal for install dependencies that are used by ruby\n",
    "\n",
    "### Making Script File\n",
    "\n",
    "Scripts can be made in order to install different things and also manipulate different things that are in Linux through the terminal. In order to make an executable script you can run:\n",
    "\n",
    "- ```nano <filename>.sh``` - makes the file and allows you to add the code into that script, once done you can exit\n",
    "  - ```ctrl+x``` - used to exit the nano file and allows you to save it\n",
    "\n",
    "At this point your file is made but not executable so in order to make it executable you can:\n",
    "- ```chmod +x <filename>.sh``` - this changes the permissions of the file in order to make it executable\n",
    "\n",
    "After doing this you can run the file by running:\n",
    "- ```./<filename>.sh``` - this basically open the file, however instead of entering the file, it runs the code inside the file"
   ]
  },
  {
   "cell_type": "code",
   "execution_count": 1,
   "metadata": {
    "vscode": {
     "languageId": "shellscript"
    }
   },
   "outputs": [
    {
     "name": "stdout",
     "output_type": "stream",
     "text": [
      "Finding Ubuntu Version:\n"
     ]
    },
    {
     "name": "stderr",
     "output_type": "stream",
     "text": [
      "No LSB modules are available.\n"
     ]
    },
    {
     "name": "stdout",
     "output_type": "stream",
     "text": [
      "Distributor ID:\tUbuntu\n",
      "Description:\tUbuntu 20.04.6 LTS\n",
      "Release:\t20.04\n",
      "Codename:\tfocal\n",
      "\n",
      "Getting Github Info:\n",
      "DavidVasilev1\n",
      "davidkvasilev@gmail.com\n",
      "\n",
      "Testing Python:\n",
      "Python is already installed.\n",
      "Python 3.9.12\n",
      "\n",
      "Testing Ruby:\n",
      "Ruby is already installed.\n",
      "ruby 3.0.5p211 (2022-11-24 revision ba5cf0f7c5) [x86_64-linux]\n",
      "\n",
      "Testing Jupyter:\n",
      "Jupyter is already installed.\n",
      "Selected Jupyter core packages...\n",
      "IPython          : 8.2.0\n",
      "ipykernel        : 6.9.1\n",
      "ipywidgets       : 7.6.5\n",
      "jupyter_client   : 6.1.12\n",
      "jupyter_core     : 4.9.2\n",
      "jupyter_server   : 1.13.5\n",
      "jupyterlab       : 3.3.2\n",
      "nbclient         : 0.5.13\n",
      "nbconvert        : 6.4.4\n",
      "nbformat         : 5.3.0\n",
      "notebook         : 6.4.8\n",
      "qtconsole        : 5.3.0\n",
      "traitlets        : 5.1.1\n",
      "Available kernels:\n",
      "  bash          /home/davidv/.local/share/jupyter/kernels/bash\n",
      "  javascript    /home/davidv/.local/share/jupyter/kernels/javascript\n",
      "  python3       /home/davidv/.local/share/jupyter/kernels/python3\n",
      "\n",
      "Testing Bundler:\n",
      "Bundler is already installed.\n",
      "Bundler version 2.2.33\n",
      "\n"
     ]
    }
   ],
   "source": [
    "%%script bash\n",
    "\n",
    "echo \"Finding Ubuntu Version:\"\n",
    "lsb_release -a\n",
    "echo\n",
    "\n",
    "echo \"Getting Github Info:\"\n",
    "git config --global --get user.name\n",
    "git config --global --get user.email\n",
    "echo\n",
    "\n",
    "echo \"Testing Python:\"\n",
    "if command -v python3 &>/dev/null; then\n",
    "    echo \"Python is already installed.\"\n",
    "    python3 --version\n",
    "else\n",
    "    echo \"Installing Python...\"\n",
    "    sudo apt install -y python3\n",
    "fi\n",
    "echo\n",
    "\n",
    "echo \"Testing Ruby:\"\n",
    "if command -v ruby &>/dev/null; then\n",
    "    echo \"Ruby is already installed.\"\n",
    "    ruby -v\n",
    "else\n",
    "    echo \"Installing Ruby...\"\n",
    "    sudo apt install -y ruby-full build-essential zlib1g-dev\n",
    "fi\n",
    "echo\n",
    "\n",
    "echo \"Testing Jupyter:\"\n",
    "if command -v jupyter-notebook &>/dev/null; then\n",
    "    echo \"Jupyter is already installed.\"\n",
    "    jupyter --version\n",
    "    jupyter kernelspec list\n",
    "else\n",
    "    echo \"Installing Jupyter...\"\n",
    "    sudo apt-get install -y jupyter-notebook\n",
    "fi\n",
    "echo\n",
    "\n",
    "echo \"Testing Bundler:\"\n",
    "if command -v jekyll bundler &>/dev/null; then\n",
    "    echo \"Bundler is already installed.\"\n",
    "    bundler --version\n",
    "else\n",
    "    echo \"Installing Bundler...\"\n",
    "    export GEM_HOME=\"$HOME/gems\"\n",
    "    export PATH=\"$HOME/gems/bin:$PATH\"\n",
    "    echo 'export GEM_HOME=\"$HOME/gems\"' >> ~/.bashrc\n",
    "    echo 'export PATH=\"$HOME/gems/bin:$PATH\"' >> ~/.bashrc\n",
    "    gem install jekyll bundler\n",
    "fi\n",
    "echo"
   ]
  },
  {
   "cell_type": "markdown",
   "metadata": {},
   "source": [
    "## Java Hello\n",
    "\n"
   ]
  }
 ],
 "metadata": {
  "kernelspec": {
   "display_name": "base",
   "language": "python",
   "name": "python3"
  },
  "language_info": {
   "codemirror_mode": {
    "name": "ipython",
    "version": 3
   },
   "file_extension": ".py",
   "mimetype": "text/x-python",
   "name": "python",
   "nbconvert_exporter": "python",
   "pygments_lexer": "ipython3",
   "version": "3.9.12"
  },
  "orig_nbformat": 4
 },
 "nbformat": 4,
 "nbformat_minor": 2
}
