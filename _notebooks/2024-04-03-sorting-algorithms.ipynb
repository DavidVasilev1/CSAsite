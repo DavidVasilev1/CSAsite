{
 "cells": [
  {
   "cell_type": "markdown",
   "metadata": {},
   "source": [
    "---\n",
    "- title: Algorythmic Sorts\n",
    "- author: david\n",
    "- categories: [Lab Notebook]\n",
    "- tags: [Java]\n",
    "- type: tangibles\n",
    "- week: 29\n",
    "- description: The sorts documented from algorythmic\n",
    "- toc: True\n",
    "- comments: True\n",
    "- date: 2024-04-03 12:00:00 +0000\n",
    "---"
   ]
  },
  {
   "cell_type": "markdown",
   "metadata": {},
   "source": [
    "## Bubble Sort\n",
    "\n",
    "Here is my implementation of bubble sort:"
   ]
  },
  {
   "cell_type": "code",
   "execution_count": 5,
   "metadata": {
    "vscode": {
     "languageId": "java"
    }
   },
   "outputs": [
    {
     "name": "stdout",
     "output_type": "stream",
     "text": [
      "Bubble Sort:\n",
      "[11, 12, 22, 25, 34, 64, 90]\n"
     ]
    }
   ],
   "source": [
    "import java.util.Arrays;\n",
    "\n",
    "public class BubbleSort {\n",
    "    public static void bubbleSort(int[] arr) {\n",
    "        int n = arr.length;\n",
    "        // moving through all elements of the array\n",
    "        for (int i = 0; i < n - 1; i++) {\n",
    "            // the last element is in place sop we start at the next one\n",
    "            for (int j = 0; j < n - i - 1; j++) {\n",
    "                // check and swap if the values are not sorted\n",
    "                if (arr[j] > arr[j + 1]) {\n",
    "                    int temp = arr[j];\n",
    "                    arr[j] = arr[j + 1];\n",
    "                    arr[j + 1] = temp;\n",
    "                }\n",
    "            }\n",
    "        }\n",
    "    }\n",
    "\n",
    "    public static void main(String[] args) {\n",
    "        // test array\n",
    "        int[] arr = {64, 34, 25, 12, 22, 11, 90};\n",
    "\n",
    "        System.out.println(\"Bubble Sort:\");\n",
    "        bubbleSort(arr);\n",
    "        System.out.println(Arrays.toString(arr));\n",
    "    }\n",
    "}\n",
    "\n",
    "BubbleSort.main(null);"
   ]
  },
  {
   "cell_type": "markdown",
   "metadata": {},
   "source": [
    "With this sort, we essentially iterate through the list and compare the values that are next to each other and this goes on until the list is sorted."
   ]
  },
  {
   "cell_type": "markdown",
   "metadata": {},
   "source": [
    "## Selection Sort\n",
    "\n",
    "This is my implementation of selection sort:"
   ]
  },
  {
   "cell_type": "code",
   "execution_count": 7,
   "metadata": {
    "vscode": {
     "languageId": "java"
    }
   },
   "outputs": [
    {
     "name": "stdout",
     "output_type": "stream",
     "text": [
      "Selection Sort:\n",
      "[11, 12, 22, 25, 34, 64, 90]\n"
     ]
    }
   ],
   "source": [
    "import java.util.Arrays;\n",
    "\n",
    "public class SelectionSort {\n",
    "    public static void selectionSort(int[] arr) {\n",
    "        int n = arr.length;\n",
    "        // shifting boundary of unsorted array\n",
    "        for (int i = 0; i < n - 1; i++) {\n",
    "            // find minimum of the subarray\n",
    "            int minIndex = i;\n",
    "            for (int j = i + 1; j < n; j++) {\n",
    "                if (arr[j] < arr[minIndex]) {\n",
    "                    minIndex = j;\n",
    "                }\n",
    "            }\n",
    "            // swapping the minimum with the first value of the array\n",
    "            int temp = arr[minIndex];\n",
    "            arr[minIndex] = arr[i];\n",
    "            arr[i] = temp;\n",
    "        }\n",
    "    }\n",
    "\n",
    "    public static void main(String[] args) {\n",
    "        int[] arr = {64, 34, 25, 12, 22, 11, 90};\n",
    "\n",
    "        System.out.println(\"Selection Sort:\");\n",
    "        selectionSort(arr);\n",
    "        System.out.println(Arrays.toString(arr));\n",
    "    }\n",
    "}\n",
    "\n",
    "SelectionSort.main(null);"
   ]
  },
  {
   "cell_type": "markdown",
   "metadata": {},
   "source": [
    "This sort breaks the sort into a subarray and then based on that finds the minimum of that subarray and moves it to the front of the subarray, shifting the boundary and going on and on until the boundary reaches the end of the array."
   ]
  },
  {
   "cell_type": "markdown",
   "metadata": {},
   "source": [
    "## Insertion Sort\n",
    "\n",
    "This is insertion sort:"
   ]
  },
  {
   "cell_type": "code",
   "execution_count": 9,
   "metadata": {
    "vscode": {
     "languageId": "java"
    }
   },
   "outputs": [
    {
     "name": "stdout",
     "output_type": "stream",
     "text": [
      "Insertion Sort:\n",
      "[11, 12, 22, 25, 34, 64, 90]\n"
     ]
    }
   ],
   "source": [
    "import java.util.Arrays;\n",
    "\n",
    "public class InsertionSort {\n",
    "    public static void insertionSort(int[] arr) {\n",
    "        int n = arr.length;\n",
    "        // iterating through the array\n",
    "        for (int i = 1; i < n; ++i) {\n",
    "            // finding the key of the array\n",
    "            int key = arr[i];\n",
    "            // finding compare value\n",
    "            int j = i - 1;\n",
    "            // moving values that are before the key and greater than the key after the key\n",
    "            while (j >= 0 && arr[j] > key) {\n",
    "                arr[j + 1] = arr[j];\n",
    "                j = j - 1;\n",
    "            }\n",
    "            arr[j + 1] = key;\n",
    "        }\n",
    "    }\n",
    "\n",
    "    public static void main(String[] args) {\n",
    "        int[] arr = {64, 34, 25, 12, 22, 11, 90};\n",
    "\n",
    "        System.out.println(\"Insertion Sort:\");\n",
    "        insertionSort(arr);\n",
    "        System.out.println(Arrays.toString(arr));\n",
    "    }\n",
    "}\n",
    "\n",
    "InsertionSort.main(null);"
   ]
  },
  {
   "cell_type": "markdown",
   "metadata": {},
   "source": [
    "How this one works is that the values that are before the key and greater than the key are moved to after the key and the rest of the values stay before the key and as the key moves through the array, the array sorts."
   ]
  },
  {
   "cell_type": "code",
   "execution_count": 11,
   "metadata": {
    "vscode": {
     "languageId": "java"
    }
   },
   "outputs": [
    {
     "name": "stdout",
     "output_type": "stream",
     "text": [
      "Merge Sort:\n",
      "[11, 12, 22, 25, 34, 64, 90]\n"
     ]
    }
   ],
   "source": [
    "import java.util.Arrays;\n",
    "\n",
    "public class MergeSort {\n",
    "    public static void mergeSort(int[] arr) {\n",
    "        if (arr.length > 1) {\n",
    "            int mid = arr.length / 2;\n",
    "            int[] left = Arrays.copyOfRange(arr, 0, mid); // split array in halves\n",
    "            int[] right = Arrays.copyOfRange(arr, mid, arr.length);\n",
    "\n",
    "            mergeSort(left); // sort the left with recursion\n",
    "            mergeSort(right); // sort the right with recursion\n",
    "\n",
    "            merge(arr, left, right); // merge the sorted halves\n",
    "        }\n",
    "    }\n",
    "\n",
    "    private static void merge(int[] arr, int[] left, int[] right) {\n",
    "        int i = 0, j = 0, k = 0;\n",
    "        // merging the left and right arrays\n",
    "        while (i < left.length && j < right.length) {\n",
    "            if (left[i] <= right[j]) {\n",
    "                arr[k++] = left[i++];\n",
    "            } else {\n",
    "                arr[k++] = right[j++];\n",
    "            }\n",
    "        }\n",
    "        // moving any remaining elements in the left array\n",
    "        while (i < left.length) {\n",
    "            arr[k++] = left[i++];\n",
    "        }\n",
    "        // moving any remaining elements in the right arrray\n",
    "        while (j < right.length) {\n",
    "            arr[k++] = right[j++];\n",
    "        }\n",
    "    }\n",
    "\n",
    "    public static void main(String[] args) {\n",
    "        int[] arr = {64, 34, 25, 12, 22, 11, 90};\n",
    "\n",
    "        System.out.println(\"Merge Sort:\");\n",
    "        mergeSort(arr);\n",
    "        System.out.println(Arrays.toString(arr));\n",
    "    }\n",
    "}\n",
    "\n",
    "MergeSort.main(null);"
   ]
  },
  {
   "cell_type": "markdown",
   "metadata": {},
   "source": [
    "This algorithm takes the array and splits it into halves an infinite number of times until there are only pairs. From there the values are broken down and compared to the other value around them to see if they are greater than or less than and then they are moved respectively. If the values are the same, they are not moved."
   ]
  },
  {
   "cell_type": "markdown",
   "metadata": {},
   "source": [
    "## Quick Sort\n",
    "\n",
    "This is quick sort:"
   ]
  },
  {
   "cell_type": "code",
   "execution_count": 14,
   "metadata": {
    "vscode": {
     "languageId": "java"
    }
   },
   "outputs": [
    {
     "name": "stdout",
     "output_type": "stream",
     "text": [
      "Quick Sort:\n",
      "[11, 12, 22, 25, 34, 64, 90]\n"
     ]
    }
   ],
   "source": [
    "import java.util.Arrays;\n",
    "\n",
    "public class QuickSort {\n",
    "    public static void quickSort(int[] arr, int low, int high) {\n",
    "        if (low < high) {\n",
    "            // this is where the array is partitioned\n",
    "            int pi = partition(arr, low, high);\n",
    "            // sorts the elements before and after the partition\n",
    "            quickSort(arr, low, pi - 1); // recursive calls\n",
    "            quickSort(arr, pi + 1, high);\n",
    "        }\n",
    "    }\n",
    "\n",
    "    private static int partition(int[] arr, int low, int high) {\n",
    "        int pivot = arr[high]; // pivot defined\n",
    "        int i = low - 1; // index of the smaller element\n",
    "        for (int j = low; j < high; j++) {\n",
    "            // if the element is smaller than the pivot, it is moved to the left\n",
    "            if (arr[j] < pivot) {\n",
    "                i++;\n",
    "                // swapping the array\n",
    "                int temp = arr[i];\n",
    "                arr[i] = arr[j];\n",
    "                arr[j] = temp;\n",
    "            }\n",
    "        }\n",
    "        // swapping the higher value with the pivot\n",
    "        int temp = arr[i + 1];\n",
    "        arr[i + 1] = arr[high];\n",
    "        arr[high] = temp;\n",
    "        return i + 1;\n",
    "    }\n",
    "\n",
    "    public static void main(String[] args) {\n",
    "        int[] arr = {64, 34, 25, 12, 22, 11, 90};\n",
    "\n",
    "        System.out.println(\"Quick Sort:\");\n",
    "        quickSort(arr, 0, arr.length - 1);\n",
    "        System.out.println(Arrays.toString(arr));\n",
    "    }\n",
    "}\n",
    "\n",
    "QuickSort.main(null);"
   ]
  },
  {
   "cell_type": "markdown",
   "metadata": {},
   "source": [
    "In this sort, there is a pivot which is used to sort so that the two values that are next to each other are compared and then sorted out and this occurs until the entire array is sorted."
   ]
  },
  {
   "cell_type": "markdown",
   "metadata": {},
   "source": [
    "## Merge Sort with Linked Lists"
   ]
  },
  {
   "cell_type": "code",
   "execution_count": 16,
   "metadata": {
    "vscode": {
     "languageId": "java"
    }
   },
   "outputs": [
    {
     "name": "stdout",
     "output_type": "stream",
     "text": [
      "Original:\n",
      "12 11 13 5 6 \n",
      "\n",
      "Sorted:\n",
      "5 6 11 12 13 \n"
     ]
    }
   ],
   "source": [
    "import java.util.Comparator;\n",
    "\n",
    "public class LinkedList<T extends Comparable<T>> {\n",
    "\n",
    "    private Node<T> head;\n",
    "    private int size;\n",
    "\n",
    "    // this is the node class\n",
    "    private static class Node<T> {\n",
    "        T data;\n",
    "        Node<T> next;\n",
    "\n",
    "        public Node(T data) {\n",
    "            this.data = data;\n",
    "            this.next = null;\n",
    "        }\n",
    "    }\n",
    "\n",
    "    // this is the constructor\n",
    "    public LinkedList() {\n",
    "        head = null;\n",
    "        size = 0;\n",
    "    }\n",
    "\n",
    "    // this allows for data to be inserted into the end of the linked list as a node\n",
    "    public void insert(T data) {\n",
    "        Node<T> newNode = new Node<>(data);\n",
    "        if (head == null) {\n",
    "            head = newNode;\n",
    "        } else {\n",
    "            Node<T> current = head;\n",
    "            while (current.next != null) {\n",
    "                current = current.next;\n",
    "            }\n",
    "            current.next = newNode;\n",
    "        }\n",
    "        size++;\n",
    "    }\n",
    "\n",
    "    // this performs the merge sort on the head\n",
    "    public void mergeSort() {\n",
    "        head = mergeSort(head);\n",
    "    }\n",
    "\n",
    "    // this is the method called to perform merge\n",
    "    private Node<T> mergeSort(Node<T> head) {\n",
    "        // for an empty list\n",
    "        if (head == null || head.next == null) {\n",
    "            return head;\n",
    "        }\n",
    "\n",
    "        // finds the center of the list\n",
    "        Node<T> middle = getMiddle(head);\n",
    "        Node<T> nextOfMiddle = middle.next;\n",
    "\n",
    "        // splits the list in two\n",
    "        middle.next = null;\n",
    "\n",
    "        // does merge on left\n",
    "        Node<T> left = mergeSort(head);\n",
    "\n",
    "        // does merge on right\n",
    "        Node<T> right = mergeSort(nextOfMiddle);\n",
    "\n",
    "        // puts the two halves together\n",
    "        Node<T> sortedList = merge(left, right);\n",
    "\n",
    "        return sortedList;\n",
    "    }\n",
    "\n",
    "    // this is how the middle is found\n",
    "    private Node<T> getMiddle(Node<T> head) {\n",
    "        if (head == null) {\n",
    "            return head;\n",
    "        }\n",
    "        Node<T> slow = head, fast = head;\n",
    "        while (fast.next != null && fast.next.next != null) {\n",
    "            slow = slow.next;\n",
    "            fast = fast.next.next;\n",
    "        }\n",
    "        return slow;\n",
    "    }\n",
    "\n",
    "    // this is how the halves are merged\n",
    "    private Node<T> merge(Node<T> left, Node<T> right) {\n",
    "        Node<T> result = null;\n",
    "        if (left == null) {\n",
    "            return right;\n",
    "        }\n",
    "        if (right == null) {\n",
    "            return left;\n",
    "        }\n",
    "        // this is how the values are compared in order to merge correctly\n",
    "        if (left.data.compareTo(right.data) <= 0) {\n",
    "            result = left;\n",
    "            result.next = merge(left.next, right);\n",
    "        } else {\n",
    "            result = right;\n",
    "            result.next = merge(left, right.next);\n",
    "        }\n",
    "        return result;\n",
    "    }\n",
    "\n",
    "    // print\n",
    "    public void printList() {\n",
    "        Node<T> current = head;\n",
    "        while (current != null) {\n",
    "            System.out.print(current.data + \" \");\n",
    "            current = current.next;\n",
    "        }\n",
    "        System.out.println();\n",
    "    }\n",
    "\n",
    "    public static void main(String[] args) {\n",
    "        LinkedList<Integer> list = new LinkedList<>();\n",
    "        list.insert(12);\n",
    "        list.insert(11);\n",
    "        list.insert(13);\n",
    "        list.insert(5);\n",
    "        list.insert(6);\n",
    "\n",
    "        System.out.println(\"Original:\");\n",
    "        list.printList();\n",
    "\n",
    "        list.mergeSort();\n",
    "\n",
    "        System.out.println(\"\\nSorted:\");\n",
    "        list.printList();\n",
    "    }\n",
    "}\n",
    "\n",
    "LinkedList.main(null);"
   ]
  }
 ],
 "metadata": {
  "kernelspec": {
   "display_name": "Java",
   "language": "java",
   "name": "java"
  },
  "language_info": {
   "codemirror_mode": "java",
   "file_extension": ".jshell",
   "mimetype": "text/x-java-source",
   "name": "Java",
   "pygments_lexer": "java",
   "version": "17.0.10+7-Ubuntu-122.04.1"
  }
 },
 "nbformat": 4,
 "nbformat_minor": 2
}
