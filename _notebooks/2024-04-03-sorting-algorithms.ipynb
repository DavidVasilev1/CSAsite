{
 "cells": [
  {
   "cell_type": "markdown",
   "metadata": {},
   "source": [
    "---\n",
    "- title: Algorythmic Sorts\n",
    "- author: david\n",
    "- categories: [Lab Notebook]\n",
    "- tags: [Java]\n",
    "- type: tangibles\n",
    "- week: 29\n",
    "- description: The sorts documented from algorythmic\n",
    "- toc: True\n",
    "- comments: True\n",
    "- date: 2024-04-03 12:00:00 +0000\n",
    "---"
   ]
  },
  {
   "cell_type": "markdown",
   "metadata": {},
   "source": [
    "## Performance Experience\n",
    "\n",
    "Before the performance we advertised our performance a lot on Instagram. Here are the results from that:\n",
    "\n",
    "![](/assets/img/post_images/IMG_0838.jpg)\n",
    "![](/assets/img/post_images/IMG_0839.jpg)\n",
    "![](/assets/img/post_images/IMG_0840.jpg)\n",
    "![](/assets/img/post_images/IMG_0841.jpg)\n",
    "![](/assets/img/post_images/IMG_0842.jpg)\n",
    "\n",
    "On our instagram we documented the progress of our practices and this gained traction as people saw it. We also practiced web safety by disallowing comments in order to protect our privacy. Overall we practiced a total of five times, two times Heritage park and two times during school, and once before the performance.\n",
    "\n",
    "Other groups also had interesting performances, such as Rachelina's performance in which she got carried away at the end of the performance. The sorts were interesting to see being performed and made them somewhat easier to understand."
   ]
  },
  {
   "cell_type": "markdown",
   "metadata": {},
   "source": [
    "## Flower Class"
   ]
  },
  {
   "cell_type": "code",
   "execution_count": 68,
   "metadata": {
    "vscode": {
     "languageId": "java"
    }
   },
   "outputs": [],
   "source": [
    "public class Flower implements Comparable<Flower> {\n",
    "    private String breed;\n",
    "    private int nPetals;\n",
    "    private String color;\n",
    "\n",
    "    public Flower(String breed, int nPetals, String color) {\n",
    "        this.breed = breed;\n",
    "        this.nPetals = nPetals;\n",
    "        this.color = color;\n",
    "    }\n",
    "\n",
    "    public String getBreed() {\n",
    "        return breed;\n",
    "    }\n",
    "\n",
    "    public int getPetalNumber() {\n",
    "        return nPetals;\n",
    "    }\n",
    "\n",
    "    public String getColor() {\n",
    "        return color;\n",
    "    }\n",
    "\n",
    "    public void setBreed(String breed) {\n",
    "        this.breed = breed;\n",
    "    }\n",
    "\n",
    "    public void setPetalNumber(int nPetals) {\n",
    "        this.nPetals = nPetals;\n",
    "    }\n",
    "\n",
    "    public void setColor(String color) {\n",
    "        this.color = color;\n",
    "    }\n",
    "\n",
    "    @Override\n",
    "    public String toString() {\n",
    "        return this.breed;\n",
    "    }\n",
    "\n",
    "    @Override\n",
    "    public int compareTo(Flower nextFlower) {\n",
    "        return this.toString().compareTo(nextFlower.toString());\n",
    "    }\n",
    "}\n",
    "\n",
    "public class Garden {\n",
    "    public static ArrayList<Comparable> generate() {\n",
    "        ArrayList<Comparable> flowerGarden = new ArrayList<>();\n",
    "\n",
    "        flowerGarden.add(new Flower(\"Lotus\", 5, \"White\"));\n",
    "        flowerGarden.add(new Flower(\"Camellia\", 3, \"Yellow\"));\n",
    "        flowerGarden.add(new Flower(\"Ghost Orchid\", 7, \"Grey\"));\n",
    "        flowerGarden.add(new Flower(\"Chocolate Cosmos\", 2, \"Brown\"));\n",
    "        flowerGarden.add(new Flower(\"Corpse Flower\", 4, \"Orange\"));\n",
    "        flowerGarden.add(new Flower(\"Jade Vine\", 9, \"Green\"));\n",
    "        flowerGarden.add(new Flower(\"Juliet Rose\", 6, \"Red\"));\n",
    "        flowerGarden.add(new Flower(\"Pasqueflower\", 8, \"Blue\"));\n",
    "        flowerGarden.add(new Flower(\"Campion\", 1, \"Pink\"));\n",
    "        flowerGarden.add(new Flower(\"Franklin Tree\", 9, \"Purple\"));\n",
    "        return flowerGarden;\n",
    "    }\n",
    "}\n",
    "\n",
    "ArrayList<Comparable> flowerGarden = Garden.generate();"
   ]
  },
  {
   "cell_type": "markdown",
   "metadata": {},
   "source": [
    "## Bubble Sort\n",
    "\n",
    "Here is my implementation of bubble sort:"
   ]
  },
  {
   "cell_type": "code",
   "execution_count": 57,
   "metadata": {
    "vscode": {
     "languageId": "java"
    }
   },
   "outputs": [
    {
     "name": "stdout",
     "output_type": "stream",
     "text": [
      "Garden before: [Lotus, Camellia, Ghost Orchid, Chocolate Cosmos, Corpse Flower, Jade Vine, Juliet Rose, Pasqueflower, Campion, Franklin Tree]\n",
      "Garden after: [Camellia, Campion, Chocolate Cosmos, Corpse Flower, Franklin Tree, Ghost Orchid, Jade Vine, Juliet Rose, Lotus, Pasqueflower]\n"
     ]
    }
   ],
   "source": [
    "import java.util.Arrays;\n",
    "\n",
    "public class BubbleSort {\n",
    "    public static void bubbleSort(ArrayList<Comparable> list) {\n",
    "        int n = list.size();\n",
    "        // moving through all elements of the array\n",
    "        for (int i = 0; i < n - 1; i++) {\n",
    "            // the last element is in place sop we start at the next one\n",
    "            for (int j = 0; j < n - i - 1; j++) {\n",
    "                // check and swap if the values are not sorted\n",
    "                if (list.get(j).compareTo(list.get(j + 1)) > 0) {\n",
    "                    Comparable temp = list.get(j);\n",
    "                    list.set(j, list.get(j + 1));\n",
    "                    list.set(j + 1, temp);\n",
    "                }\n",
    "            }\n",
    "        }\n",
    "    }\n",
    "}\n",
    "\n",
    "ArrayList<Comparable> FlowerGarden = Garden.generate(); \n",
    "System.out.println(\"Garden before: \" + flowerGarden);\n",
    "BubbleSort.bubbleSort(flowerGarden);\n",
    "System.out.println(\"Garden after: \" + flowerGarden);"
   ]
  },
  {
   "cell_type": "markdown",
   "metadata": {},
   "source": [
    "With this sort, we essentially iterate through the list and compare the breeds that are next to each other and this goes on until the list is sorted."
   ]
  },
  {
   "cell_type": "markdown",
   "metadata": {},
   "source": [
    "## Selection Sort\n",
    "\n",
    "This is my implementation of selection sort:"
   ]
  },
  {
   "cell_type": "code",
   "execution_count": 60,
   "metadata": {
    "vscode": {
     "languageId": "java"
    }
   },
   "outputs": [
    {
     "name": "stdout",
     "output_type": "stream",
     "text": [
      "Garden before: [Lotus, Camellia, Ghost Orchid, Chocolate Cosmos, Corpse Flower, Jade Vine, Juliet Rose, Pasqueflower, Campion, Franklin Tree]\n"
     ]
    },
    {
     "name": "stdout",
     "output_type": "stream",
     "text": [
      "Garden after: [Camellia, Campion, Chocolate Cosmos, Corpse Flower, Franklin Tree, Ghost Orchid, Jade Vine, Juliet Rose, Lotus, Pasqueflower]\n"
     ]
    }
   ],
   "source": [
    "import java.util.Arrays;\n",
    "\n",
    "public class SelectionSort {\n",
    "    public static void selectionSort(ArrayList<Comparable> list) {\n",
    "        int n = list.size();\n",
    "        // shifting boundary of unsorted array\n",
    "        for (int i = 0; i < n - 1; i++) {\n",
    "            // find minimum of the subarray\n",
    "            int minIndex = i;\n",
    "            for (int j = i + 1; j < n; j++) {\n",
    "                if (list.get(j).compareTo(list.get(minIndex)) < 0) {\n",
    "                    minIndex = j;\n",
    "                }\n",
    "            }\n",
    "            // swapping the minimum with the first value of the array\n",
    "            Comparable temp = list.get(minIndex);\n",
    "            list.set(minIndex, list.get(i));\n",
    "            list.set(i, temp);\n",
    "        }\n",
    "    }\n",
    "}\n",
    "\n",
    "ArrayList<Comparable> FlowerGarden = Garden.generate(); \n",
    "System.out.println(\"Garden before: \" + flowerGarden);\n",
    "BubbleSort.bubbleSort(flowerGarden);\n",
    "System.out.println(\"Garden after: \" + flowerGarden);"
   ]
  },
  {
   "cell_type": "markdown",
   "metadata": {},
   "source": [
    "This sort breaks the sort into a subarray and then based on that finds the minimum of that subarray and moves it to the front of the subarray, shifting the boundary and going on and on until the boundary reaches the end of the array."
   ]
  },
  {
   "cell_type": "markdown",
   "metadata": {},
   "source": [
    "## Insertion Sort\n",
    "\n",
    "This is insertion sort:"
   ]
  },
  {
   "cell_type": "code",
   "execution_count": 63,
   "metadata": {
    "vscode": {
     "languageId": "java"
    }
   },
   "outputs": [
    {
     "name": "stdout",
     "output_type": "stream",
     "text": [
      "Garden before: [Lotus, Camellia, Ghost Orchid, Chocolate Cosmos, Corpse Flower, Jade Vine, Juliet Rose, Pasqueflower, Campion, Franklin Tree]\n",
      "Garden after: [Camellia, Campion, Chocolate Cosmos, Corpse Flower, Franklin Tree, Ghost Orchid, Jade Vine, Juliet Rose, Lotus, Pasqueflower]\n"
     ]
    }
   ],
   "source": [
    "import java.util.Arrays;\n",
    "\n",
    "public class InsertionSort {\n",
    "    public static void insertionSort(ArrayList<Comparable> list) {\n",
    "        int n = list.size();\n",
    "        // iterating through the array\n",
    "        for (int i = 1; i < n; ++i) {\n",
    "            // finding the key of the array\n",
    "            Comparable key = list.get(i);\n",
    "            // finding compare value\n",
    "            int j = i - 1;\n",
    "            // moving values that are before the key and greater than the key after the key\n",
    "            while (j >= 0 && list.get(j).compareTo(key) > 0) {\n",
    "                list.set(j + 1, list.get(j));\n",
    "                j--;\n",
    "            }\n",
    "            list.set(j + 1, key);\n",
    "        }\n",
    "    }\n",
    "}\n",
    "\n",
    "ArrayList<Comparable> FlowerGarden = Garden.generate(); \n",
    "System.out.println(\"Garden before: \" + flowerGarden);\n",
    "BubbleSort.bubbleSort(flowerGarden);\n",
    "System.out.println(\"Garden after: \" + flowerGarden);"
   ]
  },
  {
   "cell_type": "markdown",
   "metadata": {},
   "source": [
    "How this one works is that the values that are before the key and greater than the key are moved to after the key and the rest of the values stay before the key and as the key moves through the array, the array sorts."
   ]
  },
  {
   "cell_type": "markdown",
   "metadata": {},
   "source": [
    "## Merge Sort\n",
    "\n",
    "This is merge:"
   ]
  },
  {
   "cell_type": "code",
   "execution_count": 66,
   "metadata": {
    "vscode": {
     "languageId": "java"
    }
   },
   "outputs": [
    {
     "name": "stdout",
     "output_type": "stream",
     "text": [
      "Garden before: [Lotus, Camellia, Ghost Orchid, Chocolate Cosmos, Corpse Flower, Jade Vine, Juliet Rose, Pasqueflower, Campion, Franklin Tree]\n"
     ]
    },
    {
     "name": "stdout",
     "output_type": "stream",
     "text": [
      "Garden after: [Camellia, Campion, Chocolate Cosmos, Corpse Flower, Franklin Tree, Ghost Orchid, Jade Vine, Juliet Rose, Lotus, Pasqueflower]\n"
     ]
    }
   ],
   "source": [
    "import java.util.Arrays;\n",
    "\n",
    "public class MergeSort {\n",
    "    public static void mergeSort(ArrayList<Comparable> list) {\n",
    "        if (list.size() > 1) {\n",
    "            int mid = list.size() / 2;\n",
    "            ArrayList<Comparable> left = new ArrayList<>(list.subList(0, mid)); // split array in halves\n",
    "            ArrayList<Comparable> right = new ArrayList<>(list.subList(mid, list.size()));\n",
    "\n",
    "            mergeSort(left); // sort the left with recursion\n",
    "            mergeSort(right); // sort the right with recursion\n",
    "\n",
    "            merge(arr, left, right); // merge the sorted halves\n",
    "        }\n",
    "    }\n",
    "\n",
    "    private static void merge(ArrayList<Comparable> list, ArrayList<Comparable> left, ArrayList<Comparable> right) {\n",
    "        int i = 0, j = 0, k = 0;\n",
    "        // merging the left and right arrays\n",
    "        while (i < left.size() && j < right.size()) {\n",
    "            if (left.get(i).compareTo(right.get(j)) <= 0) {\n",
    "                list.set(k++, left.get(i++));\n",
    "            } else {\n",
    "                list.set(k++, right.get(j++));\n",
    "            }\n",
    "        }\n",
    "        // moving any remaining elements in the left array\n",
    "        while (i < left.size()) {\n",
    "            list.set(k++, left.get(i++));\n",
    "        }\n",
    "        // moving any remaining elements in the right arrray\n",
    "        while (j < right.size()) {\n",
    "            list.set(k++, right.get(j++));\n",
    "        }\n",
    "    }\n",
    "}\n",
    "\n",
    "ArrayList<Comparable> FlowerGarden = Garden.generate(); \n",
    "System.out.println(\"Garden before: \" + flowerGarden);\n",
    "BubbleSort.bubbleSort(flowerGarden);\n",
    "System.out.println(\"Garden after: \" + flowerGarden);"
   ]
  },
  {
   "cell_type": "markdown",
   "metadata": {},
   "source": [
    "This algorithm takes the array and splits it into halves an infinite number of times until there are only pairs. From there the values are broken down and compared to the other value around them to see if they are greater than or less than and then they are moved respectively. If the values are the same, they are not moved."
   ]
  },
  {
   "cell_type": "markdown",
   "metadata": {},
   "source": [
    "## Quick Sort\n",
    "\n",
    "This is quick sort:"
   ]
  },
  {
   "cell_type": "code",
   "execution_count": 69,
   "metadata": {
    "vscode": {
     "languageId": "java"
    }
   },
   "outputs": [
    {
     "name": "stdout",
     "output_type": "stream",
     "text": [
      "Garden before: [Lotus, Camellia, Ghost Orchid, Chocolate Cosmos, Corpse Flower, Jade Vine, Juliet Rose, Pasqueflower, Campion, Franklin Tree]\n",
      "Garden after: [Camellia, Campion, Chocolate Cosmos, Corpse Flower, Franklin Tree, Ghost Orchid, Jade Vine, Juliet Rose, Lotus, Pasqueflower]\n"
     ]
    }
   ],
   "source": [
    "import java.util.Arrays;\n",
    "\n",
    "public class QuickSort {\n",
    "    public static void quickSort(ArrayList<Comparable> list, int low, int high) {        \n",
    "        if (low < high) {\n",
    "            // this is where the array is partitioned\n",
    "            int pi = partition(list, low, high);\n",
    "            // sorts the elements before and after the partition\n",
    "            quickSort(list, low, pi - 1);\n",
    "            quickSort(list, pi + 1, high);\n",
    "        }\n",
    "    }\n",
    "\n",
    "    private static int partition(ArrayList<Comparable> list, int low, int high) {\n",
    "        Comparable pivot = list.get(high); // pivot defined\n",
    "        int i = low - 1; // index of the smaller element\n",
    "        for (int j = low; j < high; j++) {\n",
    "            // if the element is smaller than the pivot, it is moved to the left\n",
    "            if (list.get(j).compareTo(pivot) < 0) {\n",
    "                i++;\n",
    "                // swapping the array\n",
    "                Comparable temp = list.get(i);\n",
    "                list.set(i, list.get(j));\n",
    "                list.set(j, temp);\n",
    "            }\n",
    "        }\n",
    "        // swapping the higher value with the pivot\n",
    "        Comparable temp = list.get(i + 1);\n",
    "        list.set(i + 1, list.get(high));\n",
    "        list.set(high, temp);\n",
    "        return i + 1;\n",
    "    }\n",
    "}\n",
    "\n",
    "ArrayList<Comparable> FlowerGarden = Garden.generate(); \n",
    "System.out.println(\"Garden before: \" + flowerGarden);\n",
    "BubbleSort.bubbleSort(flowerGarden);\n",
    "System.out.println(\"Garden after: \" + flowerGarden);"
   ]
  },
  {
   "cell_type": "markdown",
   "metadata": {},
   "source": [
    "In this sort, there is a pivot which is used to sort so that the two values that are next to each other are compared and then sorted out and this occurs until the entire array is sorted."
   ]
  },
  {
   "cell_type": "markdown",
   "metadata": {},
   "source": [
    "## Merge Sort with Linked Lists"
   ]
  },
  {
   "cell_type": "code",
   "execution_count": 86,
   "metadata": {
    "vscode": {
     "languageId": "java"
    }
   },
   "outputs": [
    {
     "data": {
      "text/plain": [
       "(Breed: Lotus, Petals: 5, Color: White), (Breed: Camellia, Petals: 3, Color: Yellow), (Breed: Ghost Orchid, Petals: 7, Color: Grey), (Breed: Chocolate Cosmos, Petals: 2, Color: Brown), (Breed: Corpse Flower, Petals: 4, Color: Orange), (Breed: Jade Vine, Petals: 9, Color: Green), (Breed: Juliet Rose, Petals: 6, Color: Red), (Breed: Pasqueflower, Petals: 8, Color: Blue), (Breed: Campion, Petals: 1, Color: Pink), (Breed: Franklin Tree, Petals: 9, Color: Purple), null"
      ]
     },
     "execution_count": 86,
     "metadata": {},
     "output_type": "execute_result"
    }
   ],
   "source": [
    "// public class LinkedList {\n",
    "//     private Object object;\n",
    "//     private LinkedList nextNode;\n",
    "//     private LinkedList prevNode;\n",
    "\n",
    "//     public LinkedList(Object object, LinkedList prevNode) {\n",
    "//         this.object = object;\n",
    "//         this.nextNode = null;\n",
    "//         this.prevNode = prevNode;\n",
    "//     }\n",
    "\n",
    "//     public Object getObject() {\n",
    "//         return object;\n",
    "//     }\n",
    "\n",
    "//     public LinkedList getNext() {\n",
    "//         return nextNode;\n",
    "//     }\n",
    "\n",
    "//     public void setNextNode(LinkedList nextNode) {\n",
    "//         this.nextNode = nextNode;\n",
    "//     }\n",
    "\n",
    "//     public LinkedList getPrevious() {\n",
    "//         return prevNode;\n",
    "//     }\n",
    "\n",
    "//     public void setPrevNode(LinkedList prevNode) {\n",
    "//         this.prevNode = prevNode;\n",
    "//     }\n",
    "// }\n",
    "\n",
    "// public class CircleQueue {\n",
    "//     private LinkedList headNode;\n",
    "//     private LinkedList tailNode;\n",
    "//     private LinkedList currentNode;\n",
    "\n",
    "//     public CircleQueue() {\n",
    "//         headNode = null;\n",
    "//         tailNode = null;\n",
    "//         currentNode = null;\n",
    "//     }\n",
    "\n",
    "//     // getters\n",
    "//     public Object getFirstObject() {\n",
    "//         currentNode = headNode;\n",
    "//         if (headNode == null)\n",
    "//             return null;\n",
    "//         else\n",
    "//             return headNode.getObject();\n",
    "//     }\n",
    "\n",
    "//     public Object getLastObject() {\n",
    "//         currentNode = tailNode;\n",
    "//         if (tailNode == null)\n",
    "//             return null;\n",
    "//         else\n",
    "//             return tailNode.getObject();\n",
    "//     }\n",
    "\n",
    "//     public Object getObject() {\n",
    "//         if (currentNode == null)\n",
    "//             return null;\n",
    "//         else\n",
    "//             return currentNode.getObject();\n",
    "//     }\n",
    "\n",
    "//     // setters\n",
    "//     public Object setNext() {\n",
    "//         currentNode = currentNode.getNext();\n",
    "//         if (currentNode == null)\n",
    "//             currentNode = headNode;\n",
    "//         return currentNode.getObject();\n",
    "//     }\n",
    "\n",
    "//     public void setPrevious() {\n",
    "//         currentNode = currentNode.getPrevious();\n",
    "//         if (currentNode == null)\n",
    "//             currentNode = tailNode;\n",
    "//     }\n",
    "\n",
    "//     public void add(Object opaqueObject) {\n",
    "//         tailNode = new LinkedList(opaqueObject, currentNode);\n",
    "//         if (currentNode != null)\n",
    "//             currentNode.setNextNode(tailNode);\n",
    "//         currentNode = tailNode;\n",
    "//         if (headNode == null) {\n",
    "//             headNode = tailNode;\n",
    "//         }\n",
    "//     }\n",
    "\n",
    "//     public Object delete() {\n",
    "//         Object opaqueObject = null;\n",
    "//         if (headNode != null) {\n",
    "//             opaqueObject = headNode.getObject();\n",
    "//             headNode = headNode.getNext();\n",
    "//             if (headNode == null)\n",
    "//                 tailNode = headNode;\n",
    "//             else\n",
    "//                 headNode.setPrevNode(null);\n",
    "//         }\n",
    "//         return opaqueObject;\n",
    "//     }\n",
    "\n",
    "//     public String toString() {\n",
    "//         StringBuilder queueToString = new StringBuilder(\"[\");\n",
    "//         LinkedList node = headNode;\n",
    "//         while (node != null) {\n",
    "//             queueToString.append(\"(\").append(node.getObject()).append(\")\");\n",
    "//             node = node.getNext();\n",
    "//             if (node != null)\n",
    "//                 queueToString.append(\", \");\n",
    "//         }\n",
    "//         queueToString.append(\"]\");\n",
    "//         return queueToString.toString();\n",
    "//     }\n",
    "// }\n",
    "\n",
    "// public class FlowerGarden {\n",
    "//     private FlowerNode head;\n",
    "//     private int size;\n",
    "\n",
    "//     public FlowerGarden() {\n",
    "//         head = null;\n",
    "//         size = 0;\n",
    "//     }\n",
    "\n",
    "//     // creating LinkedList\n",
    "//     public void add(Flower flower) {\n",
    "//         FlowerNode newNode = new FlowerNode(flower);\n",
    "//         if (head == null) {\n",
    "//             head = newNode;\n",
    "//         } else {\n",
    "//             FlowerNode current = head;\n",
    "//             while (current.next != null) {\n",
    "//                 current = current.next;\n",
    "//             }\n",
    "//             current.next = newNode;\n",
    "//         }\n",
    "//         size++;\n",
    "//     }\n",
    "\n",
    "//     @Override\n",
    "//     public String toString() {\n",
    "//         FlowerNode current = head;\n",
    "//         StringBuilder res = new StringBuilder();\n",
    "//         while (current != null) {\n",
    "//             res.append(\"(Breed: \").append(current.flower.getBreed()).append(\", Petals: \").append(current.flower.getPetalNumber()).append(\", Color: \").append(current.flower.getColor()).append(\"), \");\n",
    "//             current = current.next;\n",
    "//         }\n",
    "//         res.append(\"null\");\n",
    "//         return res.toString();\n",
    "//     }\n",
    "\n",
    "//     public int size() {\n",
    "//         return size;\n",
    "//     }\n",
    "\n",
    "//     public FlowerNode getHead() {\n",
    "//         return head;\n",
    "//     }\n",
    "\n",
    "//     public void setHead(FlowerNode head) {\n",
    "//         this.head = head;\n",
    "//     }\n",
    "// }\n",
    "\n",
    "// public class LinkedGarden {\n",
    "//     public static FlowerGarden generate() {\n",
    "//         FlowerGarden flowerGarden = new FlowerGarden();\n",
    "//         flowerGarden.add(new Flower(\"Lotus\", 5, \"White\"));\n",
    "//         flowerGarden.add(new Flower(\"Camellia\", 3, \"Yellow\"));\n",
    "//         flowerGarden.add(new Flower(\"Ghost Orchid\", 7, \"Grey\"));\n",
    "//         flowerGarden.add(new Flower(\"Chocolate Cosmos\", 2, \"Brown\"));\n",
    "//         flowerGarden.add(new Flower(\"Corpse Flower\", 4, \"Orange\"));\n",
    "//         flowerGarden.add(new Flower(\"Jade Vine\", 9, \"Green\"));\n",
    "//         flowerGarden.add(new Flower(\"Juliet Rose\", 6, \"Red\"));\n",
    "//         flowerGarden.add(new Flower(\"Pasqueflower\", 8, \"Blue\"));\n",
    "//         flowerGarden.add(new Flower(\"Campion\", 1, \"Pink\"));\n",
    "//         flowerGarden.add(new Flower(\"Franklin Tree\", 9, \"Purple\"));\n",
    "//         return flowerGarden;\n",
    "//     }\n",
    "// }\n",
    "\n",
    "// LinkedGarden.generate();"
   ]
  },
  {
   "cell_type": "code",
   "execution_count": 87,
   "metadata": {
    "vscode": {
     "languageId": "java"
    }
   },
   "outputs": [
    {
     "name": "stdout",
     "output_type": "stream",
     "text": [
      "Flower Garden before sort: (Breed: Lotus, Petals: 5, Color: White), (Breed: Camellia, Petals: 3, Color: Yellow), (Breed: Ghost Orchid, Petals: 7, Color: Grey), (Breed: Chocolate Cosmos, Petals: 2, Color: Brown), (Breed: Corpse Flower, Petals: 4, Color: Orange), (Breed: Jade Vine, Petals: 9, Color: Green), (Breed: Juliet Rose, Petals: 6, Color: Red), (Breed: Pasqueflower, Petals: 8, Color: Blue), (Breed: Campion, Petals: 1, Color: Pink), (Breed: Franklin Tree, Petals: 9, Color: Purple), null\n",
      "Flower Garden after sort: (Breed: Camellia, Petals: 3, Color: Yellow), (Breed: Campion, Petals: 1, Color: Pink), (Breed: Chocolate Cosmos, Petals: 2, Color: Brown), (Breed: Corpse Flower, Petals: 4, Color: Orange), (Breed: Franklin Tree, Petals: 9, Color: Purple), (Breed: Ghost Orchid, Petals: 7, Color: Grey), (Breed: Jade Vine, Petals: 9, Color: Green), (Breed: Juliet Rose, Petals: 6, Color: Red), (Breed: Lotus, Petals: 5, Color: White), (Breed: Pasqueflower, Petals: 8, Color: Blue), null\n"
     ]
    }
   ],
   "source": [
    "// public class MergeSortFlowerGarden {\n",
    "//     // method for merge\n",
    "//     public static void mergeSort(FlowerGarden garden) {\n",
    "//         garden.setHead(mergeSort(garden.getHead()));\n",
    "//     }\n",
    "\n",
    "//     // using LinkedList for merge\n",
    "//     private static FlowerNode mergeSort(FlowerNode head) {\n",
    "//         // if no or one element, list is sorted\n",
    "//         if (head == null || head.next == null) {\n",
    "//             return head;\n",
    "//         }\n",
    "\n",
    "//         // finding middle node\n",
    "//         FlowerNode middle = getMiddle(head);\n",
    "//         FlowerNode nextOfMiddle = middle.next;\n",
    "//         middle.next = null;\n",
    "\n",
    "//         // sort to left and right\n",
    "//         FlowerNode left = mergeSort(head);\n",
    "//         FlowerNode right = mergeSort(nextOfMiddle);\n",
    "\n",
    "//         // merge\n",
    "//         return merge(left, right);\n",
    "//     }\n",
    "\n",
    "//     // how to merge\n",
    "//     private static FlowerNode merge(FlowerNode left, FlowerNode right) {\n",
    "//         FlowerNode dummy = new FlowerNode(null);\n",
    "//         FlowerNode tail = dummy;\n",
    "\n",
    "//         // compare values of nodes and merge together\n",
    "//         while (left != null && right != null) {\n",
    "//             if (left.flower.compareTo(right.flower) <= 0) {\n",
    "//                 tail.next = left;\n",
    "//                 left = left.next;\n",
    "//             } else {\n",
    "//                 tail.next = right;\n",
    "//                 right = right.next;\n",
    "//             }\n",
    "//             tail = tail.next;\n",
    "//         }\n",
    "\n",
    "//         // remaining elements to left and right\n",
    "//         if (left != null) {\n",
    "//             tail.next = left;\n",
    "//         } else {\n",
    "//             tail.next = right;\n",
    "//         }\n",
    "\n",
    "//         // return head of merged list\n",
    "//         return dummy.next;\n",
    "//     }\n",
    "\n",
    "//     //find the middle node of the linked list\n",
    "//     private static FlowerNode getMiddle(FlowerNode head) {\n",
    "//         if (head == null) {\n",
    "//             return head;\n",
    "//         }\n",
    "//         FlowerNode slow = head;\n",
    "//         FlowerNode fast = head;\n",
    "//         while (fast.next != null && fast.next.next != null) {\n",
    "//             slow = slow.next;\n",
    "//             fast = fast.next.next;\n",
    "//         }\n",
    "//         return slow;\n",
    "//     }\n",
    "\n",
    "//     public static void main(String[] args) {\n",
    "//         FlowerGarden garden = LinkedGarden.generate();\n",
    "//         System.out.println(\"Flower Garden before sort: \" + garden);\n",
    "//         mergeSort(garden);\n",
    "//         System.out.println(\"Flower Garden after sort: \" + garden);\n",
    "//     }\n",
    "// }\n",
    "\n",
    "// MergeSortFlowerGarden.main(null);"
   ]
  }
 ],
 "metadata": {
  "kernelspec": {
   "display_name": "Java",
   "language": "java",
   "name": "java"
  },
  "language_info": {
   "codemirror_mode": "java",
   "file_extension": ".jshell",
   "mimetype": "text/x-java-source",
   "name": "Java",
   "pygments_lexer": "java",
   "version": "17.0.10+7-Ubuntu-122.04.1"
  }
 },
 "nbformat": 4,
 "nbformat_minor": 2
}
