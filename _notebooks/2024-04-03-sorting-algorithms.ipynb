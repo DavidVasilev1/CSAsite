{
 "cells": [
  {
   "cell_type": "markdown",
   "metadata": {},
   "source": [
    "---\n",
    "- title: Algorythmic Sorts\n",
    "- author: david\n",
    "- categories: [Lab Notebook]\n",
    "- tags: [Java]\n",
    "- type: tangibles\n",
    "- week: 29\n",
    "- description: The sorts documented from algorythmic\n",
    "- toc: True\n",
    "- comments: True\n",
    "- date: 2024-04-03 12:00:00 +0000\n",
    "---"
   ]
  },
  {
   "cell_type": "markdown",
   "metadata": {},
   "source": [
    "## Performance Experience\n",
    "\n",
    "Before the performance we advertised our performance a lot on Instagram. Here are the results from that:\n",
    "\n",
    "![](/assets/img/post_images/IMG_0838.jpg)\n",
    "![](/assets/img/post_images/IMG_0839.jpg)\n",
    "![](/assets/img/post_images/IMG_0840.jpg)\n",
    "![](/assets/img/post_images/IMG_0841.jpg)\n",
    "![](/assets/img/post_images/IMG_0842.jpg)\n",
    "\n",
    "On our instagram we documented the progress of our practices and this gained traction as people saw it. We also practiced web safety by disallowing comments in order to protect our privacy. Overall we practiced a total of five times, two times Heritage park and two times during school, and once before the performance.\n",
    "\n",
    "Other groups also had interesting performances, such as Rachelina's performance in which she got carried away at the end of the performance. The sorts were interesting to see being performed and made them somewhat easier to understand."
   ]
  },
  {
   "cell_type": "markdown",
   "metadata": {},
   "source": [
    "## Flower Class"
   ]
  },
  {
   "cell_type": "code",
   "execution_count": 30,
   "metadata": {},
   "outputs": [
    {
     "name": "stdout",
     "output_type": "stream",
     "text": [
      "Original: [{\"breed\": \"Lotus\", \"type\": \"Flower\", \"masterType\": \"Collectable\"}, {\"breed\": \"Camellia\", \"type\": \"Flower\", \"masterType\": \"Collectable\"}, {\"breed\": \"Ghost Orchid\", \"type\": \"Flower\", \"masterType\": \"Collectable\"}, {\"breed\": \"Chocolate Cosmos\", \"type\": \"Flower\", \"masterType\": \"Collectable\"}, {\"breed\": \"Corpse Flower\", \"type\": \"Flower\", \"masterType\": \"Collectable\"}, {\"breed\": \"Jade Vine\", \"type\": \"Flower\", \"masterType\": \"Collectable\"}, {\"breed\": \"Juliet Rose\", \"type\": \"Flower\", \"masterType\": \"Collectable\"}, {\"breed\": \"Pasqueflower\", \"type\": \"Flower\", \"masterType\": \"Collectable\"}, {\"breed\": \"Campion\", \"type\": \"Flower\", \"masterType\": \"Collectable\"}, {\"breed\": \"Franklin Tree\", \"type\": \"Flower\", \"masterType\": \"Collectable\"}]\n",
      "Sorted by Breed: [{\"breed\": \"Camellia\", \"type\": \"Flower\", \"masterType\": \"Collectable\"}, {\"breed\": \"Campion\", \"type\": \"Flower\", \"masterType\": \"Collectable\"}, {\"breed\": \"Chocolate Cosmos\", \"type\": \"Flower\", \"masterType\": \"Collectable\"}, {\"breed\": \"Corpse Flower\", \"type\": \"Flower\", \"masterType\": \"Collectable\"}, {\"breed\": \"Franklin Tree\", \"type\": \"Flower\", \"masterType\": \"Collectable\"}, {\"breed\": \"Ghost Orchid\", \"type\": \"Flower\", \"masterType\": \"Collectable\"}, {\"breed\": \"Jade Vine\", \"type\": \"Flower\", \"masterType\": \"Collectable\"}, {\"breed\": \"Juliet Rose\", \"type\": \"Flower\", \"masterType\": \"Collectable\"}, {\"breed\": \"Lotus\", \"type\": \"Flower\", \"masterType\": \"Collectable\"}, {\"breed\": \"Pasqueflower\", \"type\": \"Flower\", \"masterType\": \"Collectable\"}]\n",
      "Sorted by Petals: [{\"petals\": 1, \"type\": \"Flower\", \"masterType\": \"Collectable\"}, {\"petals\": 2, \"type\": \"Flower\", \"masterType\": \"Collectable\"}, {\"petals\": 3, \"type\": \"Flower\", \"masterType\": \"Collectable\"}, {\"petals\": 4, \"type\": \"Flower\", \"masterType\": \"Collectable\"}, {\"petals\": 5, \"type\": \"Flower\", \"masterType\": \"Collectable\"}, {\"petals\": 6, \"type\": \"Flower\", \"masterType\": \"Collectable\"}, {\"petals\": 7, \"type\": \"Flower\", \"masterType\": \"Collectable\"}, {\"petals\": 8, \"type\": \"Flower\", \"masterType\": \"Collectable\"}, {\"petals\": 9, \"type\": \"Flower\", \"masterType\": \"Collectable\"}, {\"petals\": 9, \"type\": \"Flower\", \"masterType\": \"Collectable\"}]\n",
      "Sorted by Color: [{\"color\": \"Blue\", \"type\": \"Flower\", \"masterType\": \"Collectable\"}, {\"color\": \"Brown\", \"type\": \"Flower\", \"masterType\": \"Collectable\"}, {\"color\": \"Green\", \"type\": \"Flower\", \"masterType\": \"Collectable\"}, {\"color\": \"Grey\", \"type\": \"Flower\", \"masterType\": \"Collectable\"}, {\"color\": \"Orange\", \"type\": \"Flower\", \"masterType\": \"Collectable\"}, {\"color\": \"Pink\", \"type\": \"Flower\", \"masterType\": \"Collectable\"}, {\"color\": \"Purple\", \"type\": \"Flower\", \"masterType\": \"Collectable\"}, {\"color\": \"Red\", \"type\": \"Flower\", \"masterType\": \"Collectable\"}, {\"color\": \"White\", \"type\": \"Flower\", \"masterType\": \"Collectable\"}, {\"color\": \"Yellow\", \"type\": \"Flower\", \"masterType\": \"Collectable\"}]\n"
     ]
    }
   ],
   "source": [
    "import java.util.ArrayList;\n",
    "import java.util.Arrays;\n",
    "import java.util.Collections;\n",
    "import java.util.List;\n",
    "\n",
    "public abstract class Collectable implements Comparable<Collectable> {\n",
    "    public final String masterType = \"Collectable\";\n",
    "    private String type; // extender should define their data type\n",
    "\n",
    "    // enumerated interface\n",
    "    public interface KeyTypes {\n",
    "        String name();\n",
    "    }\n",
    "\n",
    "    protected abstract KeyTypes getKey(); // this method helps force usage of KeyTypes\n",
    "\n",
    "    // getter\n",
    "    public String getMasterType() {\n",
    "        return masterType;\n",
    "    }\n",
    "\n",
    "    // getter\n",
    "    public String getType() {\n",
    "        return type;\n",
    "    }\n",
    "\n",
    "    // setter\n",
    "    public void setType(String type) {\n",
    "        this.type = type;\n",
    "    }\n",
    "\n",
    "    // this method is used to establish key order\n",
    "    public abstract String toString();\n",
    "\n",
    "    // this method is used to compare toString of objects\n",
    "    public int compareTo(Collectable obj) {\n",
    "        return this.toString().compareTo(obj.toString());\n",
    "    }\n",
    "\n",
    "    public static void print(Collectable[] objs) {\n",
    "        System.out.println(objs.getClass() + \" \" + objs.length);\n",
    "\n",
    "        if (objs.length > 0) {\n",
    "            Collectable obj = objs[0];\n",
    "            System.out.println(obj.getMasterType() + \": \" + obj.getType() + \" listed by \" + obj.getKey());\n",
    "        }\n",
    "\n",
    "        for (Object o : objs)\n",
    "            System.out.println(o);\n",
    "\n",
    "        System.out.println();\n",
    "    }\n",
    "}\n",
    "\n",
    "public class Flower extends Collectable {\n",
    "    // Class data\n",
    "    public static KeyTypes key = KeyType.breed; // static initializer\n",
    "    public static void setOrder(KeyTypes key) { Flower.key = key; }\n",
    "    public enum KeyType implements KeyTypes { breed, petals, color }\n",
    "\n",
    "    private final String breed;\n",
    "    private final int petals;\n",
    "    private final String color;\n",
    "\n",
    "    // constructor\n",
    "    Flower(String breed, int petals, String color) {\n",
    "        this.setType(\"Flower\");\n",
    "        this.breed = breed;\n",
    "        this.petals = petals;\n",
    "        this.color = color;\n",
    "    }\n",
    "\n",
    "    @Override\n",
    "    protected KeyTypes getKey() {\n",
    "        return Flower.key;\n",
    "    }\n",
    "\n",
    "    @Override\n",
    "    public String toString() {\n",
    "        StringBuilder jsonBuilder = new StringBuilder();\n",
    "        jsonBuilder.append(\"{\");\n",
    "\n",
    "        if (KeyType.breed.equals(this.getKey())) {\n",
    "            jsonBuilder.append(\"\\\"breed\\\": \\\"\").append(this.breed).append(\"\\\", \");\n",
    "        } else if (KeyType.petals.equals(this.getKey())) {\n",
    "            jsonBuilder.append(\"\\\"petals\\\": \").append(this.petals).append(\", \");\n",
    "        } else if (KeyType.color.equals(this.getKey())) {\n",
    "            jsonBuilder.append(\"\\\"color\\\": \\\"\").append(this.color).append(\"\\\", \");\n",
    "        }\n",
    "\n",
    "        jsonBuilder.append(\"\\\"type\\\": \\\"\").append(this.getType()).append(\"\\\", \")\n",
    "                .append(\"\\\"masterType\\\": \\\"\").append(this.masterType).append(\"\\\"\");\n",
    "\n",
    "        jsonBuilder.append(\"}\");\n",
    "        return jsonBuilder.toString();\n",
    "    }\n",
    "\n",
    "    // test data\n",
    "    public static Flower[] flowers() {\n",
    "        return new Flower[]{\n",
    "                new Flower(\"Lotus\", 5, \"White\"),\n",
    "                new Flower(\"Camellia\", 3, \"Yellow\"),\n",
    "                new Flower(\"Ghost Orchid\", 7, \"Grey\"),\n",
    "                new Flower(\"Chocolate Cosmos\", 2, \"Brown\"),\n",
    "                new Flower(\"Corpse Flower\", 4, \"Orange\"),\n",
    "                new Flower(\"Jade Vine\", 9, \"Green\"),\n",
    "                new Flower(\"Juliet Rose\", 6, \"Red\"),\n",
    "                new Flower(\"Pasqueflower\", 8, \"Blue\"),\n",
    "                new Flower(\"Campion\", 1, \"Pink\"),\n",
    "                new Flower(\"Franklin Tree\", 9, \"Purple\"),\n",
    "        };\n",
    "    }\n",
    "\n",
    "    public static void bubbleSort(Collectable[] array) {\n",
    "        int n = array.length;\n",
    "        // moving through all elements of the array\n",
    "        for (int i = 0; i < n - 1; i++) {\n",
    "            // the last element is in place so we start at the next one\n",
    "            for (int j = 0; j < n - i - 1; j++) {\n",
    "                // check and swap if the values are not sorted\n",
    "                if (array[j].compareTo(array[j + 1]) > 0) {\n",
    "                    Collectable temp = array[j];\n",
    "                    array[j] = array[j + 1];\n",
    "                    array[j + 1] = temp;\n",
    "                }\n",
    "            }\n",
    "        }\n",
    "    }\n",
    "}\n",
    "\n",
    "Flower[] flowerArray = Flower.flowers();\n",
    "Flower.setOrder(Flower.KeyType.breed);\n",
    "System.out.println(\"Original: \" + Arrays.toString(flowerArray));\n",
    "\n",
    "// breed\n",
    "Flower.setOrder(Flower.KeyType.breed);\n",
    "Flower.bubbleSort(flowerArray);\n",
    "System.out.println(\"Sorted by Breed: \" + Arrays.toString(flowerArray));\n",
    "\n",
    "// petals\n",
    "Flower.setOrder(Flower.KeyType.petals);\n",
    "Flower.bubbleSort(flowerArray);\n",
    "System.out.println(\"Sorted by Petals: \" + Arrays.toString(flowerArray));\n",
    "\n",
    "// color\n",
    "Flower.setOrder(Flower.KeyType.color);\n",
    "Flower.bubbleSort(flowerArray);\n",
    "System.out.println(\"Sorted by Color: \" + Arrays.toString(flowerArray));\n"
   ]
  },
  {
   "cell_type": "markdown",
   "metadata": {},
   "source": [
    "## Bubble Sort\n",
    "\n",
    "Here is my implementation of bubble sort:"
   ]
  },
  {
   "cell_type": "code",
   "execution_count": 15,
   "metadata": {},
   "outputs": [
    {
     "name": "stdout",
     "output_type": "stream",
     "text": [
      "Original: [{\"breed\": \"Lotus\", \"type\": \"Flower\", \"masterType\": \"Collectable\"}, {\"breed\": \"Camellia\", \"type\": \"Flower\", \"masterType\": \"Collectable\"}, {\"breed\": \"Ghost Orchid\", \"type\": \"Flower\", \"masterType\": \"Collectable\"}, {\"breed\": \"Chocolate Cosmos\", \"type\": \"Flower\", \"masterType\": \"Collectable\"}, {\"breed\": \"Corpse Flower\", \"type\": \"Flower\", \"masterType\": \"Collectable\"}, {\"breed\": \"Jade Vine\", \"type\": \"Flower\", \"masterType\": \"Collectable\"}, {\"breed\": \"Juliet Rose\", \"type\": \"Flower\", \"masterType\": \"Collectable\"}, {\"breed\": \"Pasqueflower\", \"type\": \"Flower\", \"masterType\": \"Collectable\"}, {\"breed\": \"Campion\", \"type\": \"Flower\", \"masterType\": \"Collectable\"}, {\"breed\": \"Franklin Tree\", \"type\": \"Flower\", \"masterType\": \"Collectable\"}]\n",
      "Sorted by Breed: [{\"breed\": \"Camellia\", \"type\": \"Flower\", \"masterType\": \"Collectable\"}, {\"breed\": \"Campion\", \"type\": \"Flower\", \"masterType\": \"Collectable\"}, {\"breed\": \"Chocolate Cosmos\", \"type\": \"Flower\", \"masterType\": \"Collectable\"}, {\"breed\": \"Corpse Flower\", \"type\": \"Flower\", \"masterType\": \"Collectable\"}, {\"breed\": \"Franklin Tree\", \"type\": \"Flower\", \"masterType\": \"Collectable\"}, {\"breed\": \"Ghost Orchid\", \"type\": \"Flower\", \"masterType\": \"Collectable\"}, {\"breed\": \"Jade Vine\", \"type\": \"Flower\", \"masterType\": \"Collectable\"}, {\"breed\": \"Juliet Rose\", \"type\": \"Flower\", \"masterType\": \"Collectable\"}, {\"breed\": \"Lotus\", \"type\": \"Flower\", \"masterType\": \"Collectable\"}, {\"breed\": \"Pasqueflower\", \"type\": \"Flower\", \"masterType\": \"Collectable\"}]\n"
     ]
    },
    {
     "name": "stdout",
     "output_type": "stream",
     "text": [
      "Sorted by Petals: [{\"petals\": 1, \"type\": \"Flower\", \"masterType\": \"Collectable\"}, {\"petals\": 2, \"type\": \"Flower\", \"masterType\": \"Collectable\"}, {\"petals\": 3, \"type\": \"Flower\", \"masterType\": \"Collectable\"}, {\"petals\": 4, \"type\": \"Flower\", \"masterType\": \"Collectable\"}, {\"petals\": 5, \"type\": \"Flower\", \"masterType\": \"Collectable\"}, {\"petals\": 6, \"type\": \"Flower\", \"masterType\": \"Collectable\"}, {\"petals\": 7, \"type\": \"Flower\", \"masterType\": \"Collectable\"}, {\"petals\": 8, \"type\": \"Flower\", \"masterType\": \"Collectable\"}, {\"petals\": 9, \"type\": \"Flower\", \"masterType\": \"Collectable\"}, {\"petals\": 9, \"type\": \"Flower\", \"masterType\": \"Collectable\"}]\n",
      "Sorted by Color: [{\"color\": \"Blue\", \"type\": \"Flower\", \"masterType\": \"Collectable\"}, {\"color\": \"Brown\", \"type\": \"Flower\", \"masterType\": \"Collectable\"}, {\"color\": \"Green\", \"type\": \"Flower\", \"masterType\": \"Collectable\"}, {\"color\": \"Grey\", \"type\": \"Flower\", \"masterType\": \"Collectable\"}, {\"color\": \"Orange\", \"type\": \"Flower\", \"masterType\": \"Collectable\"}, {\"color\": \"Pink\", \"type\": \"Flower\", \"masterType\": \"Collectable\"}, {\"color\": \"Purple\", \"type\": \"Flower\", \"masterType\": \"Collectable\"}, {\"color\": \"Red\", \"type\": \"Flower\", \"masterType\": \"Collectable\"}, {\"color\": \"White\", \"type\": \"Flower\", \"masterType\": \"Collectable\"}, {\"color\": \"Yellow\", \"type\": \"Flower\", \"masterType\": \"Collectable\"}]\n"
     ]
    }
   ],
   "source": [
    "public class BubbleSort {\n",
    "    public static void bubbleSort(Collectable[] array) {\n",
    "        int n = array.length;\n",
    "        // moving through all elements of the array\n",
    "        for (int i = 0; i < n - 1; i++) {\n",
    "            // the last element is in place so we start at the next one\n",
    "            for (int j = 0; j < n - i - 1; j++) {\n",
    "                // check and swap if the values are not sorted\n",
    "                if (array[j].compareTo(array[j + 1]) > 0) {\n",
    "                    Collectable temp = array[j];\n",
    "                    array[j] = array[j + 1];\n",
    "                    array[j + 1] = temp;\n",
    "                }\n",
    "            }\n",
    "        }\n",
    "    }\n",
    "}\n",
    "\n",
    "Flower[] flowerArray = Flower.flowers();\n",
    "Flower.setOrder(Flower.KeyType.breed);\n",
    "System.out.println(\"Original: \" + Arrays.toString(flowerArray));\n",
    "\n",
    "// breed\n",
    "Flower.setOrder(Flower.KeyType.breed);\n",
    "BubbleSort.bubbleSort(flowerArray);\n",
    "System.out.println(\"Sorted by Breed: \" + Arrays.toString(flowerArray));\n",
    "\n",
    "// petals\n",
    "Flower.setOrder(Flower.KeyType.petals);\n",
    "BubbleSort.bubbleSort(flowerArray);\n",
    "System.out.println(\"Sorted by Petals: \" + Arrays.toString(flowerArray));\n",
    "\n",
    "// color\n",
    "Flower.setOrder(Flower.KeyType.color);\n",
    "BubbleSort.bubbleSort(flowerArray);\n",
    "System.out.println(\"Sorted by Color: \" + Arrays.toString(flowerArray));"
   ]
  },
  {
   "cell_type": "markdown",
   "metadata": {},
   "source": [
    "With this sort, we essentially iterate through the list and compare the breeds that are next to each other and this goes on until the list is sorted."
   ]
  },
  {
   "cell_type": "markdown",
   "metadata": {},
   "source": [
    "## Selection Sort\n",
    "\n",
    "This is my implementation of selection sort:"
   ]
  },
  {
   "cell_type": "code",
   "execution_count": 29,
   "metadata": {},
   "outputs": [
    {
     "name": "stdout",
     "output_type": "stream",
     "text": [
      "Original: [{\"breed\": \"Lotus\", \"type\": \"Flower\", \"masterType\": \"Collectable\"}, {\"breed\": \"Camellia\", \"type\": \"Flower\", \"masterType\": \"Collectable\"}, {\"breed\": \"Ghost Orchid\", \"type\": \"Flower\", \"masterType\": \"Collectable\"}, {\"breed\": \"Chocolate Cosmos\", \"type\": \"Flower\", \"masterType\": \"Collectable\"}, {\"breed\": \"Corpse Flower\", \"type\": \"Flower\", \"masterType\": \"Collectable\"}, {\"breed\": \"Jade Vine\", \"type\": \"Flower\", \"masterType\": \"Collectable\"}, {\"breed\": \"Juliet Rose\", \"type\": \"Flower\", \"masterType\": \"Collectable\"}, {\"breed\": \"Pasqueflower\", \"type\": \"Flower\", \"masterType\": \"Collectable\"}, {\"breed\": \"Campion\", \"type\": \"Flower\", \"masterType\": \"Collectable\"}, {\"breed\": \"Franklin Tree\", \"type\": \"Flower\", \"masterType\": \"Collectable\"}]\n"
     ]
    },
    {
     "name": "stdout",
     "output_type": "stream",
     "text": [
      "Sorted by Breed: [{\"breed\": \"Camellia\", \"type\": \"Flower\", \"masterType\": \"Collectable\"}, {\"breed\": \"Campion\", \"type\": \"Flower\", \"masterType\": \"Collectable\"}, {\"breed\": \"Chocolate Cosmos\", \"type\": \"Flower\", \"masterType\": \"Collectable\"}, {\"breed\": \"Corpse Flower\", \"type\": \"Flower\", \"masterType\": \"Collectable\"}, {\"breed\": \"Franklin Tree\", \"type\": \"Flower\", \"masterType\": \"Collectable\"}, {\"breed\": \"Ghost Orchid\", \"type\": \"Flower\", \"masterType\": \"Collectable\"}, {\"breed\": \"Jade Vine\", \"type\": \"Flower\", \"masterType\": \"Collectable\"}, {\"breed\": \"Juliet Rose\", \"type\": \"Flower\", \"masterType\": \"Collectable\"}, {\"breed\": \"Lotus\", \"type\": \"Flower\", \"masterType\": \"Collectable\"}, {\"breed\": \"Pasqueflower\", \"type\": \"Flower\", \"masterType\": \"Collectable\"}]\n",
      "Sorted by Petals: [{\"petals\": 1, \"type\": \"Flower\", \"masterType\": \"Collectable\"}, {\"petals\": 2, \"type\": \"Flower\", \"masterType\": \"Collectable\"}, {\"petals\": 3, \"type\": \"Flower\", \"masterType\": \"Collectable\"}, {\"petals\": 4, \"type\": \"Flower\", \"masterType\": \"Collectable\"}, {\"petals\": 5, \"type\": \"Flower\", \"masterType\": \"Collectable\"}, {\"petals\": 6, \"type\": \"Flower\", \"masterType\": \"Collectable\"}, {\"petals\": 7, \"type\": \"Flower\", \"masterType\": \"Collectable\"}, {\"petals\": 8, \"type\": \"Flower\", \"masterType\": \"Collectable\"}, {\"petals\": 9, \"type\": \"Flower\", \"masterType\": \"Collectable\"}, {\"petals\": 9, \"type\": \"Flower\", \"masterType\": \"Collectable\"}]\n",
      "Sorted by Color: [{\"color\": \"Blue\", \"type\": \"Flower\", \"masterType\": \"Collectable\"}, {\"color\": \"Brown\", \"type\": \"Flower\", \"masterType\": \"Collectable\"}, {\"color\": \"Green\", \"type\": \"Flower\", \"masterType\": \"Collectable\"}, {\"color\": \"Grey\", \"type\": \"Flower\", \"masterType\": \"Collectable\"}, {\"color\": \"Orange\", \"type\": \"Flower\", \"masterType\": \"Collectable\"}, {\"color\": \"Pink\", \"type\": \"Flower\", \"masterType\": \"Collectable\"}, {\"color\": \"Purple\", \"type\": \"Flower\", \"masterType\": \"Collectable\"}, {\"color\": \"Red\", \"type\": \"Flower\", \"masterType\": \"Collectable\"}, {\"color\": \"White\", \"type\": \"Flower\", \"masterType\": \"Collectable\"}, {\"color\": \"Yellow\", \"type\": \"Flower\", \"masterType\": \"Collectable\"}]\n"
     ]
    }
   ],
   "source": [
    "public class SelectionSort {\n",
    "    public static void selectionSort(Collectable[] array) {\n",
    "        int n = array.length;\n",
    "        // shifting boundary of unsorted array\n",
    "        for (int i = 0; i < n - 1; i++) {\n",
    "            // find minimum of the subarray\n",
    "            int minIndex = i;\n",
    "            for (int j = i + 1; j < n; j++) {\n",
    "                if (array[j].compareTo(array[minIndex]) < 0) {\n",
    "                    minIndex = j;\n",
    "                }\n",
    "            }\n",
    "            // swapping the minimum with the value at index i\n",
    "            Collectable temp = array[minIndex];\n",
    "            array[minIndex] = array[i];\n",
    "            array[i] = temp;\n",
    "        }\n",
    "    }\n",
    "}\n",
    "\n",
    "Flower[] flowerArray = Flower.flowers();\n",
    "Flower.setOrder(Flower.KeyType.breed);\n",
    "System.out.println(\"Original: \" + Arrays.toString(flowerArray));\n",
    "\n",
    "// breed\n",
    "Flower.setOrder(Flower.KeyType.breed);\n",
    "SelectionSort.selectionSort(flowerArray);\n",
    "System.out.println(\"Sorted by Breed: \" + Arrays.toString(flowerArray));\n",
    "\n",
    "// petals\n",
    "Flower.setOrder(Flower.KeyType.petals);\n",
    "SelectionSort.selectionSort(flowerArray);\n",
    "System.out.println(\"Sorted by Petals: \" + Arrays.toString(flowerArray));\n",
    "\n",
    "// color\n",
    "Flower.setOrder(Flower.KeyType.color);\n",
    "SelectionSort.selectionSort(flowerArray);\n",
    "System.out.println(\"Sorted by Color: \" + Arrays.toString(flowerArray));"
   ]
  },
  {
   "cell_type": "markdown",
   "metadata": {},
   "source": [
    "This sort breaks the sort into a subarray and then based on that finds the minimum of that subarray and moves it to the front of the subarray, shifting the boundary and going on and on until the boundary reaches the end of the array."
   ]
  },
  {
   "cell_type": "markdown",
   "metadata": {},
   "source": [
    "## Insertion Sort\n",
    "\n",
    "This is insertion sort:"
   ]
  },
  {
   "cell_type": "code",
   "execution_count": 28,
   "metadata": {},
   "outputs": [
    {
     "name": "stdout",
     "output_type": "stream",
     "text": [
      "Original: [{\"breed\": \"Lotus\", \"type\": \"Flower\", \"masterType\": \"Collectable\"}, {\"breed\": \"Camellia\", \"type\": \"Flower\", \"masterType\": \"Collectable\"}, {\"breed\": \"Ghost Orchid\", \"type\": \"Flower\", \"masterType\": \"Collectable\"}, {\"breed\": \"Chocolate Cosmos\", \"type\": \"Flower\", \"masterType\": \"Collectable\"}, {\"breed\": \"Corpse Flower\", \"type\": \"Flower\", \"masterType\": \"Collectable\"}, {\"breed\": \"Jade Vine\", \"type\": \"Flower\", \"masterType\": \"Collectable\"}, {\"breed\": \"Juliet Rose\", \"type\": \"Flower\", \"masterType\": \"Collectable\"}, {\"breed\": \"Pasqueflower\", \"type\": \"Flower\", \"masterType\": \"Collectable\"}, {\"breed\": \"Campion\", \"type\": \"Flower\", \"masterType\": \"Collectable\"}, {\"breed\": \"Franklin Tree\", \"type\": \"Flower\", \"masterType\": \"Collectable\"}]\n",
      "Sorted by Breed: [{\"breed\": \"Camellia\", \"type\": \"Flower\", \"masterType\": \"Collectable\"}, {\"breed\": \"Campion\", \"type\": \"Flower\", \"masterType\": \"Collectable\"}, {\"breed\": \"Chocolate Cosmos\", \"type\": \"Flower\", \"masterType\": \"Collectable\"}, {\"breed\": \"Corpse Flower\", \"type\": \"Flower\", \"masterType\": \"Collectable\"}, {\"breed\": \"Franklin Tree\", \"type\": \"Flower\", \"masterType\": \"Collectable\"}, {\"breed\": \"Ghost Orchid\", \"type\": \"Flower\", \"masterType\": \"Collectable\"}, {\"breed\": \"Jade Vine\", \"type\": \"Flower\", \"masterType\": \"Collectable\"}, {\"breed\": \"Juliet Rose\", \"type\": \"Flower\", \"masterType\": \"Collectable\"}, {\"breed\": \"Lotus\", \"type\": \"Flower\", \"masterType\": \"Collectable\"}, {\"breed\": \"Pasqueflower\", \"type\": \"Flower\", \"masterType\": \"Collectable\"}]\n"
     ]
    },
    {
     "name": "stdout",
     "output_type": "stream",
     "text": [
      "Sorted by Petals: [{\"petals\": 1, \"type\": \"Flower\", \"masterType\": \"Collectable\"}, {\"petals\": 2, \"type\": \"Flower\", \"masterType\": \"Collectable\"}, {\"petals\": 3, \"type\": \"Flower\", \"masterType\": \"Collectable\"}, {\"petals\": 4, \"type\": \"Flower\", \"masterType\": \"Collectable\"}, {\"petals\": 5, \"type\": \"Flower\", \"masterType\": \"Collectable\"}, {\"petals\": 6, \"type\": \"Flower\", \"masterType\": \"Collectable\"}, {\"petals\": 7, \"type\": \"Flower\", \"masterType\": \"Collectable\"}, {\"petals\": 8, \"type\": \"Flower\", \"masterType\": \"Collectable\"}, {\"petals\": 9, \"type\": \"Flower\", \"masterType\": \"Collectable\"}, {\"petals\": 9, \"type\": \"Flower\", \"masterType\": \"Collectable\"}]\n",
      "Sorted by Color: [{\"color\": \"Blue\", \"type\": \"Flower\", \"masterType\": \"Collectable\"}, {\"color\": \"Brown\", \"type\": \"Flower\", \"masterType\": \"Collectable\"}, {\"color\": \"Green\", \"type\": \"Flower\", \"masterType\": \"Collectable\"}, {\"color\": \"Grey\", \"type\": \"Flower\", \"masterType\": \"Collectable\"}, {\"color\": \"Orange\", \"type\": \"Flower\", \"masterType\": \"Collectable\"}, {\"color\": \"Pink\", \"type\": \"Flower\", \"masterType\": \"Collectable\"}, {\"color\": \"Purple\", \"type\": \"Flower\", \"masterType\": \"Collectable\"}, {\"color\": \"Red\", \"type\": \"Flower\", \"masterType\": \"Collectable\"}, {\"color\": \"White\", \"type\": \"Flower\", \"masterType\": \"Collectable\"}, {\"color\": \"Yellow\", \"type\": \"Flower\", \"masterType\": \"Collectable\"}]\n"
     ]
    }
   ],
   "source": [
    "public class InsertionSort {\n",
    "    public static void insertionSort(Collectable[] array) {\n",
    "        int n = array.length;\n",
    "        // iterating through the array\n",
    "        for (int i = 1; i < n; ++i) {\n",
    "            // finding the key of the array\n",
    "            Collectable key = array[i];\n",
    "            // finding compare value\n",
    "            int j = i - 1;\n",
    "            // moving values that are before the key and greater than the key after the key\n",
    "            while (j >= 0 && array[j].compareTo(key) > 0) {\n",
    "                array[j + 1] = array[j];\n",
    "                j--;\n",
    "            }\n",
    "            array[j + 1] = key;\n",
    "        }\n",
    "    }\n",
    "}\n",
    "\n",
    "Flower[] flowerArray = Flower.flowers();\n",
    "Flower.setOrder(Flower.KeyType.breed);\n",
    "System.out.println(\"Original: \" + Arrays.toString(flowerArray));\n",
    "\n",
    "// breed\n",
    "Flower.setOrder(Flower.KeyType.breed);\n",
    "InsertionSort.insertionSort(flowerArray);\n",
    "System.out.println(\"Sorted by Breed: \" + Arrays.toString(flowerArray));\n",
    "\n",
    "// petals\n",
    "Flower.setOrder(Flower.KeyType.petals);\n",
    "InsertionSort.insertionSort(flowerArray);\n",
    "System.out.println(\"Sorted by Petals: \" + Arrays.toString(flowerArray));\n",
    "\n",
    "// color\n",
    "Flower.setOrder(Flower.KeyType.color);\n",
    "InsertionSort.insertionSort(flowerArray);\n",
    "System.out.println(\"Sorted by Color: \" + Arrays.toString(flowerArray));"
   ]
  },
  {
   "cell_type": "markdown",
   "metadata": {},
   "source": [
    "How this one works is that the values that are before the key and greater than the key are moved to after the key and the rest of the values stay before the key and as the key moves through the array, the array sorts."
   ]
  },
  {
   "cell_type": "markdown",
   "metadata": {},
   "source": [
    "## Merge Sort\n",
    "\n",
    "This is merge:"
   ]
  },
  {
   "cell_type": "code",
   "execution_count": 27,
   "metadata": {},
   "outputs": [
    {
     "name": "stdout",
     "output_type": "stream",
     "text": [
      "Original: [{\"breed\": \"Lotus\", \"type\": \"Flower\", \"masterType\": \"Collectable\"}, {\"breed\": \"Camellia\", \"type\": \"Flower\", \"masterType\": \"Collectable\"}, {\"breed\": \"Ghost Orchid\", \"type\": \"Flower\", \"masterType\": \"Collectable\"}, {\"breed\": \"Chocolate Cosmos\", \"type\": \"Flower\", \"masterType\": \"Collectable\"}, {\"breed\": \"Corpse Flower\", \"type\": \"Flower\", \"masterType\": \"Collectable\"}, {\"breed\": \"Jade Vine\", \"type\": \"Flower\", \"masterType\": \"Collectable\"}, {\"breed\": \"Juliet Rose\", \"type\": \"Flower\", \"masterType\": \"Collectable\"}, {\"breed\": \"Pasqueflower\", \"type\": \"Flower\", \"masterType\": \"Collectable\"}, {\"breed\": \"Campion\", \"type\": \"Flower\", \"masterType\": \"Collectable\"}, {\"breed\": \"Franklin Tree\", \"type\": \"Flower\", \"masterType\": \"Collectable\"}]\n",
      "Sorted by Breed: [{\"breed\": \"Camellia\", \"type\": \"Flower\", \"masterType\": \"Collectable\"}, {\"breed\": \"Campion\", \"type\": \"Flower\", \"masterType\": \"Collectable\"}, {\"breed\": \"Chocolate Cosmos\", \"type\": \"Flower\", \"masterType\": \"Collectable\"}, {\"breed\": \"Corpse Flower\", \"type\": \"Flower\", \"masterType\": \"Collectable\"}, {\"breed\": \"Franklin Tree\", \"type\": \"Flower\", \"masterType\": \"Collectable\"}, {\"breed\": \"Ghost Orchid\", \"type\": \"Flower\", \"masterType\": \"Collectable\"}, {\"breed\": \"Jade Vine\", \"type\": \"Flower\", \"masterType\": \"Collectable\"}, {\"breed\": \"Juliet Rose\", \"type\": \"Flower\", \"masterType\": \"Collectable\"}, {\"breed\": \"Lotus\", \"type\": \"Flower\", \"masterType\": \"Collectable\"}, {\"breed\": \"Pasqueflower\", \"type\": \"Flower\", \"masterType\": \"Collectable\"}]\n"
     ]
    },
    {
     "name": "stdout",
     "output_type": "stream",
     "text": [
      "Sorted by Petals: [{\"petals\": 1, \"type\": \"Flower\", \"masterType\": \"Collectable\"}, {\"petals\": 2, \"type\": \"Flower\", \"masterType\": \"Collectable\"}, {\"petals\": 3, \"type\": \"Flower\", \"masterType\": \"Collectable\"}, {\"petals\": 4, \"type\": \"Flower\", \"masterType\": \"Collectable\"}, {\"petals\": 5, \"type\": \"Flower\", \"masterType\": \"Collectable\"}, {\"petals\": 6, \"type\": \"Flower\", \"masterType\": \"Collectable\"}, {\"petals\": 7, \"type\": \"Flower\", \"masterType\": \"Collectable\"}, {\"petals\": 8, \"type\": \"Flower\", \"masterType\": \"Collectable\"}, {\"petals\": 9, \"type\": \"Flower\", \"masterType\": \"Collectable\"}, {\"petals\": 9, \"type\": \"Flower\", \"masterType\": \"Collectable\"}]\n",
      "Sorted by Color: [{\"color\": \"Blue\", \"type\": \"Flower\", \"masterType\": \"Collectable\"}, {\"color\": \"Brown\", \"type\": \"Flower\", \"masterType\": \"Collectable\"}, {\"color\": \"Green\", \"type\": \"Flower\", \"masterType\": \"Collectable\"}, {\"color\": \"Grey\", \"type\": \"Flower\", \"masterType\": \"Collectable\"}, {\"color\": \"Orange\", \"type\": \"Flower\", \"masterType\": \"Collectable\"}, {\"color\": \"Pink\", \"type\": \"Flower\", \"masterType\": \"Collectable\"}, {\"color\": \"Purple\", \"type\": \"Flower\", \"masterType\": \"Collectable\"}, {\"color\": \"Red\", \"type\": \"Flower\", \"masterType\": \"Collectable\"}, {\"color\": \"White\", \"type\": \"Flower\", \"masterType\": \"Collectable\"}, {\"color\": \"Yellow\", \"type\": \"Flower\", \"masterType\": \"Collectable\"}]\n"
     ]
    }
   ],
   "source": [
    "public class MergeSort {\n",
    "    public static void mergeSort(Collectable[] array) {\n",
    "        if (array.length > 1) {\n",
    "            int mid = array.length / 2;\n",
    "            Collectable[] left = Arrays.copyOfRange(array, 0, mid); // split array in halves\n",
    "            Collectable[] right = Arrays.copyOfRange(array, mid, array.length);\n",
    "    \n",
    "            mergeSort(left); // sort the left with recursion\n",
    "            mergeSort(right); // sort the right with recursion\n",
    "    \n",
    "            merge(array, left, right); // merge the sorted halves\n",
    "        }\n",
    "    }\n",
    "    private static void merge(Collectable[] array, Collectable[] left, Collectable[] right) {\n",
    "        int i = 0, j = 0, k = 0;\n",
    "        // merging the left and right arrays\n",
    "        while (i < left.length && j < right.length) {\n",
    "            if (left[i].compareTo(right[j]) <= 0) {\n",
    "                array[k++] = left[i++];\n",
    "            } else {\n",
    "                array[k++] = right[j++];\n",
    "            }\n",
    "        }\n",
    "        // moving any remaining elements in the left array\n",
    "        while (i < left.length) {\n",
    "            array[k++] = left[i++];\n",
    "        }\n",
    "        // moving any remaining elements in the right array\n",
    "        while (j < right.length) {\n",
    "            array[k++] = right[j++];\n",
    "        }\n",
    "    }\n",
    "}\n",
    "\n",
    "Flower[] flowerArray = Flower.flowers();\n",
    "Flower.setOrder(Flower.KeyType.breed);\n",
    "System.out.println(\"Original: \" + Arrays.toString(flowerArray));\n",
    "\n",
    "// breed\n",
    "Flower.setOrder(Flower.KeyType.breed);\n",
    "MergeSort.mergeSort(flowerArray);\n",
    "System.out.println(\"Sorted by Breed: \" + Arrays.toString(flowerArray));\n",
    "\n",
    "// petals\n",
    "Flower.setOrder(Flower.KeyType.petals);\n",
    "MergeSort.mergeSort(flowerArray);\n",
    "System.out.println(\"Sorted by Petals: \" + Arrays.toString(flowerArray));\n",
    "\n",
    "// color\n",
    "Flower.setOrder(Flower.KeyType.color);\n",
    "MergeSort.mergeSort(flowerArray);\n",
    "System.out.println(\"Sorted by Color: \" + Arrays.toString(flowerArray));"
   ]
  },
  {
   "cell_type": "markdown",
   "metadata": {},
   "source": [
    "This algorithm takes the array and splits it into halves an infinite number of times until there are only pairs. From there the values are broken down and compared to the other value around them to see if they are greater than or less than and then they are moved respectively. If the values are the same, they are not moved."
   ]
  },
  {
   "cell_type": "markdown",
   "metadata": {},
   "source": [
    "## Quick Sort\n",
    "\n",
    "This is quick sort:"
   ]
  },
  {
   "cell_type": "code",
   "execution_count": 26,
   "metadata": {},
   "outputs": [
    {
     "name": "stdout",
     "output_type": "stream",
     "text": [
      "Original: [{\"breed\": \"Lotus\", \"type\": \"Flower\", \"masterType\": \"Collectable\"}, {\"breed\": \"Camellia\", \"type\": \"Flower\", \"masterType\": \"Collectable\"}, {\"breed\": \"Ghost Orchid\", \"type\": \"Flower\", \"masterType\": \"Collectable\"}, {\"breed\": \"Chocolate Cosmos\", \"type\": \"Flower\", \"masterType\": \"Collectable\"}, {\"breed\": \"Corpse Flower\", \"type\": \"Flower\", \"masterType\": \"Collectable\"}, {\"breed\": \"Jade Vine\", \"type\": \"Flower\", \"masterType\": \"Collectable\"}, {\"breed\": \"Juliet Rose\", \"type\": \"Flower\", \"masterType\": \"Collectable\"}, {\"breed\": \"Pasqueflower\", \"type\": \"Flower\", \"masterType\": \"Collectable\"}, {\"breed\": \"Campion\", \"type\": \"Flower\", \"masterType\": \"Collectable\"}, {\"breed\": \"Franklin Tree\", \"type\": \"Flower\", \"masterType\": \"Collectable\"}]\n",
      "Sorted by Breed: [{\"breed\": \"Camellia\", \"type\": \"Flower\", \"masterType\": \"Collectable\"}, {\"breed\": \"Campion\", \"type\": \"Flower\", \"masterType\": \"Collectable\"}, {\"breed\": \"Chocolate Cosmos\", \"type\": \"Flower\", \"masterType\": \"Collectable\"}, {\"breed\": \"Corpse Flower\", \"type\": \"Flower\", \"masterType\": \"Collectable\"}, {\"breed\": \"Franklin Tree\", \"type\": \"Flower\", \"masterType\": \"Collectable\"}, {\"breed\": \"Ghost Orchid\", \"type\": \"Flower\", \"masterType\": \"Collectable\"}, {\"breed\": \"Jade Vine\", \"type\": \"Flower\", \"masterType\": \"Collectable\"}, {\"breed\": \"Juliet Rose\", \"type\": \"Flower\", \"masterType\": \"Collectable\"}, {\"breed\": \"Lotus\", \"type\": \"Flower\", \"masterType\": \"Collectable\"}, {\"breed\": \"Pasqueflower\", \"type\": \"Flower\", \"masterType\": \"Collectable\"}]\n"
     ]
    },
    {
     "name": "stdout",
     "output_type": "stream",
     "text": [
      "Sorted by Petals: [{\"petals\": 1, \"type\": \"Flower\", \"masterType\": \"Collectable\"}, {\"petals\": 2, \"type\": \"Flower\", \"masterType\": \"Collectable\"}, {\"petals\": 3, \"type\": \"Flower\", \"masterType\": \"Collectable\"}, {\"petals\": 4, \"type\": \"Flower\", \"masterType\": \"Collectable\"}, {\"petals\": 5, \"type\": \"Flower\", \"masterType\": \"Collectable\"}, {\"petals\": 6, \"type\": \"Flower\", \"masterType\": \"Collectable\"}, {\"petals\": 7, \"type\": \"Flower\", \"masterType\": \"Collectable\"}, {\"petals\": 8, \"type\": \"Flower\", \"masterType\": \"Collectable\"}, {\"petals\": 9, \"type\": \"Flower\", \"masterType\": \"Collectable\"}, {\"petals\": 9, \"type\": \"Flower\", \"masterType\": \"Collectable\"}]\n",
      "Sorted by Color: [{\"color\": \"Blue\", \"type\": \"Flower\", \"masterType\": \"Collectable\"}, {\"color\": \"Brown\", \"type\": \"Flower\", \"masterType\": \"Collectable\"}, {\"color\": \"Green\", \"type\": \"Flower\", \"masterType\": \"Collectable\"}, {\"color\": \"Grey\", \"type\": \"Flower\", \"masterType\": \"Collectable\"}, {\"color\": \"Orange\", \"type\": \"Flower\", \"masterType\": \"Collectable\"}, {\"color\": \"Pink\", \"type\": \"Flower\", \"masterType\": \"Collectable\"}, {\"color\": \"Purple\", \"type\": \"Flower\", \"masterType\": \"Collectable\"}, {\"color\": \"Red\", \"type\": \"Flower\", \"masterType\": \"Collectable\"}, {\"color\": \"White\", \"type\": \"Flower\", \"masterType\": \"Collectable\"}, {\"color\": \"Yellow\", \"type\": \"Flower\", \"masterType\": \"Collectable\"}]\n"
     ]
    }
   ],
   "source": [
    "public class QuickSort {\n",
    "    public static void quickSort(Collectable[] array, int low, int high) {\n",
    "        if (low < high) {\n",
    "            // this is where the array is partitioned\n",
    "            int pi = partition(array, low, high);\n",
    "            // sorts the elements before and after the partition\n",
    "            quickSort(array, low, pi - 1);\n",
    "            quickSort(array, pi + 1, high);\n",
    "        }\n",
    "    }\n",
    "    \n",
    "    private static int partition(Collectable[] array, int low, int high) {\n",
    "        Collectable pivot = array[high]; // pivot defined\n",
    "        int i = low - 1; // index of the smaller element\n",
    "        for (int j = low; j < high; j++) {\n",
    "            // if the element is smaller than the pivot, it is moved to the left\n",
    "            if (array[j].compareTo(pivot) < 0) {\n",
    "                i++;\n",
    "                // swapping the array\n",
    "                Collectable temp = array[i];\n",
    "                array[i] = array[j];\n",
    "                array[j] = temp;\n",
    "            }\n",
    "        }\n",
    "        // swapping the higher value with the pivot\n",
    "        Collectable temp = array[i + 1];\n",
    "        array[i + 1] = array[high];\n",
    "        array[high] = temp;\n",
    "        return i + 1;\n",
    "    }\n",
    "}\n",
    "\n",
    "Flower[] flowerArray = Flower.flowers();\n",
    "Flower.setOrder(Flower.KeyType.breed);\n",
    "System.out.println(\"Original: \" + Arrays.toString(flowerArray));\n",
    "\n",
    "// breed\n",
    "Flower.setOrder(Flower.KeyType.breed);\n",
    "QuickSort.quickSort((Collectable[])flowerArray, 0, flowerArray.length - 1);\n",
    "System.out.println(\"Sorted by Breed: \" + Arrays.toString(flowerArray));\n",
    "\n",
    "// petals\n",
    "Flower.setOrder(Flower.KeyType.petals);\n",
    "QuickSort.quickSort((Collectable[])flowerArray, 0, flowerArray.length - 1);\n",
    "System.out.println(\"Sorted by Petals: \" + Arrays.toString(flowerArray));\n",
    "\n",
    "// color\n",
    "Flower.setOrder(Flower.KeyType.color);\n",
    "QuickSort.quickSort((Collectable[])flowerArray, 0, flowerArray.length - 1);\n",
    "System.out.println(\"Sorted by Color: \" + Arrays.toString(flowerArray));"
   ]
  },
  {
   "cell_type": "markdown",
   "metadata": {},
   "source": [
    "In this sort, there is a pivot which is used to sort so that the two values that are next to each other are compared and then sorted out and this occurs until the entire array is sorted."
   ]
  }
 ],
 "metadata": {
  "kernelspec": {
   "display_name": "Java",
   "language": "java",
   "name": "java"
  },
  "language_info": {
   "codemirror_mode": "java",
   "file_extension": ".jshell",
   "mimetype": "text/x-java-source",
   "name": "java",
   "pygments_lexer": "java",
   "version": "17.0.10+7-Ubuntu-122.04.1"
  }
 },
 "nbformat": 4,
 "nbformat_minor": 2
}
